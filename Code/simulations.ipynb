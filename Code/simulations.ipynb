{
 "cells": [
  {
   "cell_type": "code",
   "execution_count": 162,
   "metadata": {},
   "outputs": [
    {
     "name": "stdout",
     "output_type": "stream",
     "text": [
      "The autoreload extension is already loaded. To reload it, use:\n",
      "  %reload_ext autoreload\n"
     ]
    }
   ],
   "source": [
    "import numpy as np\n",
    "import matplotlib.pyplot as plt\n",
    "import networkx as nx\n",
    "\n",
    "from read_data import *\n",
    "from model_simulations import *\n",
    "from numpy import linalg as LA\n",
    "from time import time\n",
    "from pprint import pprint\n",
    "from copy import deepcopy as copy\n",
    "\n",
    "\n",
    "%matplotlib inline\n",
    "%load_ext autoreload\n",
    "%aimport read_data\n",
    "%aimport model_simulations\n",
    "%autoreload 1"
   ]
  },
  {
   "cell_type": "markdown",
   "metadata": {},
   "source": [
    "## Simulation\n",
    "\n",
    "\n",
    "1. Randomly infect people in each state with probability `p_inf`\n",
    "    - Calculate fraction of infected people\n",
    "2. Air travel the people\n",
    "    - Fraction of infected air travelers is the same as origin state\n",
    "    - Each person has a chance to infect every other person in the new state with probability `p_transfer`\n",
    "3. In each state, either recover, kill, or remain infected the people there with probability `p_rec, p_die, p_stay`\n",
    "4. Increment, or decrement, population between years (not quarters)\n",
    "\n",
    "Totally, there are 4 parameters: `p_inf`, `p_transfer`, `p_rec`, `p_die`\n",
    "\n",
    "Note `p_stay = 1 - p_rec - p_die`\n",
    "\n",
    "Can make into a 3 parameter model by setting `p_stay = 0` i.e., between quarters, people either heal completely, or die.\n",
    "\n",
    "### Goal: Find the best parameters that represent the number of deaths observed"
   ]
  },
  {
   "cell_type": "code",
   "execution_count": 163,
   "metadata": {},
   "outputs": [],
   "source": [
    "data_dir = \"../Data/Clean/\"\n",
    "deaths_fname = \"deaths_NCHS_processed.csv\"\n",
    "population_fname = \"population.csv\"\n",
    "\n",
    "states_abb_dict, states_abb_rev_dict, stats_abb_ord_list = read_US_states(data_dir + \"states_abb.csv\")\n",
    "deaths_dict = read_deaths_data(data_dir + deaths_fname)\n",
    "population_dict = read_population_dict(data_dir + population_fname)\n",
    "\n",
    "adj_list = {}\n",
    "A = {}\n",
    "A[2009] = {}\n",
    "A[2009][4] = read_travel_network(data_dir + \"2009_Q4.csv\", states_abb_dict, states_abb_rev_dict)[1]\n",
    "for year in range(2010, 2019):\n",
    "    A[year] = {}\n",
    "    for quarter in range(1, 5):\n",
    "        network_fname = str(year) + \"_Q\" + str(quarter) + \".csv\"\n",
    "        A[year][quarter] = read_travel_network(data_dir + network_fname, states_abb_dict, states_abb_rev_dict)[1]\n",
    "A[2019] = {}\n",
    "A[2019][1] = read_travel_network(data_dir + \"2019_Q1.csv\", states_abb_dict, states_abb_rev_dict)[1]\n",
    "\n",
    "all_population = {}\n",
    "years = [2009, 2010, 2011, 2012, 2013, 2014, 2015, 2016, 2017, 2018, 2019]\n",
    "for year in years:\n",
    "    all_population[year] = []\n",
    "\n",
    "\n",
    "for state,data in population_dict.items():\n",
    "    for year, pop in data.items():\n",
    "        all_population[year].append(pop)\n",
    "        if year == 2018:\n",
    "            all_population[2019].append(pop)\n",
    "        \n",
    "A_dict = A"
   ]
  },
  {
   "cell_type": "code",
   "execution_count": 164,
   "metadata": {},
   "outputs": [],
   "source": [
    "deaths_matrix = {-1: [], 1: [], 2: [], 3: [], 4:[]}\n",
    "for state, yearly_deaths_dict in deaths_dict.items():\n",
    "    deaths_vector = {}\n",
    "    for q in deaths_matrix:\n",
    "        deaths_vector[q] = []\n",
    "    for year, quarterly_deaths_dict in yearly_deaths_dict.items():\n",
    "#         if year > 2012:\n",
    "#             continue\n",
    "        for quarter, deaths_count in quarterly_deaths_dict.items():\n",
    "            deaths_vector[-1].append(deaths_count)\n",
    "            deaths_vector[quarter].append(deaths_count)\n",
    "    for q in deaths_matrix:\n",
    "        deaths_matrix[q].append(deaths_vector[q])\n",
    "        \n",
    "for q in deaths_matrix:\n",
    "    deaths_matrix[q] = np.array(deaths_matrix[q])\n",
    "#     print(deaths_matrix[q].shape)"
   ]
  },
  {
   "cell_type": "code",
   "execution_count": 105,
   "metadata": {},
   "outputs": [
    {
     "name": "stdout",
     "output_type": "stream",
     "text": [
      "0.0011493850286193414\n"
     ]
    }
   ],
   "source": [
    "# Fix parameters of the model\n",
    "P_inf = np.linspace(0.05, 0.2, num=100)\n",
    "P_transfer = np.linspace(0, 1, num=100)\n",
    "P_rec = np.linspace(0, 1, num=100)\n",
    "p_die = 7.540044190323758e-05\n",
    "\n",
    "sim_quarter = 1\n",
    "touch_fraction = 1\n",
    "\n",
    "x0 = np.array([P_inf[23], P_transfer[10], P_rec[33]])\n",
    "Y_est = run_full_simulation(x0, A_dict, all_population, years,\n",
    "                            sim_quarter=sim_quarter, touch_fraction=touch_fraction)\n",
    "cost = get_cost(deaths_matrix[sim_quarter], Y_est)\n",
    "print(cost)"
   ]
  },
  {
   "cell_type": "markdown",
   "metadata": {},
   "source": [
    "### Random Walks?"
   ]
  },
  {
   "cell_type": "code",
   "execution_count": 106,
   "metadata": {
    "scrolled": false
   },
   "outputs": [
    {
     "name": "stdout",
     "output_type": "stream",
     "text": [
      "[0.1  0.1  0.99]\n",
      "0 0.0012469581409305542\n",
      "3 0.001205177354450148\n",
      "4 0.0011913268361662328\n",
      "8 0.0011626406520388846\n",
      "9 0.001151137726763956\n",
      "10 0.0011404666490784868\n",
      "11 0.0011254640177490846\n",
      "12 0.001121689040210102\n",
      "14 0.0011182763917297219\n",
      "Counter:  20\n",
      "23 0.0011173814679722245\n",
      "Counter:  30\n",
      "40 0.0011169672137767196\n",
      "41 0.001116447855534303\n",
      "Counter:  50\n",
      "Counter:  60\n",
      "65 0.0011157753992171295\n",
      "Counter:  70\n",
      "Counter:  80\n",
      "Counter:  90\n",
      "97 0.0011157211756496713\n",
      "Counter:  100\n",
      "Counter:  110\n",
      "Counter:  120\n",
      "127 0.0011156734379823795\n",
      "Counter:  130\n",
      "Counter:  140\n"
     ]
    },
    {
     "ename": "KeyboardInterrupt",
     "evalue": "",
     "output_type": "error",
     "traceback": [
      "\u001b[1;31m---------------------------------------------------------------------------\u001b[0m",
      "\u001b[1;31mKeyboardInterrupt\u001b[0m                         Traceback (most recent call last)",
      "\u001b[1;32m<ipython-input-106-fe3a24be883d>\u001b[0m in \u001b[0;36m<module>\u001b[1;34m\u001b[0m\n\u001b[0;32m     31\u001b[0m         \u001b[1;32mcontinue\u001b[0m\u001b[1;33m\u001b[0m\u001b[1;33m\u001b[0m\u001b[0m\n\u001b[0;32m     32\u001b[0m     Y_est = run_full_simulation(x_i, A_dict, all_population, years,\n\u001b[1;32m---> 33\u001b[1;33m                                 sim_quarter=quarter, touch_fraction=touch_fraction)\n\u001b[0m\u001b[0;32m     34\u001b[0m     \u001b[0merror\u001b[0m \u001b[1;33m=\u001b[0m \u001b[0mget_cost\u001b[0m\u001b[1;33m(\u001b[0m\u001b[0mdeaths_matrix\u001b[0m\u001b[1;33m[\u001b[0m\u001b[0mquarter\u001b[0m\u001b[1;33m]\u001b[0m\u001b[1;33m,\u001b[0m \u001b[0mY_est\u001b[0m\u001b[1;33m)\u001b[0m\u001b[1;33m\u001b[0m\u001b[1;33m\u001b[0m\u001b[0m\n\u001b[0;32m     35\u001b[0m     \u001b[0mctr\u001b[0m \u001b[1;33m+=\u001b[0m \u001b[1;36m1\u001b[0m\u001b[1;33m\u001b[0m\u001b[1;33m\u001b[0m\u001b[0m\n",
      "\u001b[1;32mD:\\College\\Year 4\\Fall 2019\\CSCI 5352\\CSCI5352-AirTravelInfluenza\\Code\\model_simulations.py\u001b[0m in \u001b[0;36mrun_full_simulation\u001b[1;34m(x, A_dict, all_population, years, sim_quarter, touch_fraction)\u001b[0m\n\u001b[0;32m    139\u001b[0m             \u001b[1;31m# 3. Remove deceased and store it\u001b[0m\u001b[1;33m\u001b[0m\u001b[1;33m\u001b[0m\u001b[1;33m\u001b[0m\u001b[0m\n\u001b[0;32m    140\u001b[0m             \u001b[1;31m# 4. Randomly infect\u001b[0m\u001b[1;33m\u001b[0m\u001b[1;33m\u001b[0m\u001b[1;33m\u001b[0m\u001b[0m\n\u001b[1;32m--> 141\u001b[1;33m             \u001b[0mstates\u001b[0m \u001b[1;33m=\u001b[0m \u001b[0mtravel_and_infect_kernel\u001b[0m\u001b[1;33m(\u001b[0m\u001b[0mA_dict\u001b[0m\u001b[1;33m[\u001b[0m\u001b[0myear\u001b[0m\u001b[1;33m]\u001b[0m\u001b[1;33m[\u001b[0m\u001b[0mquarter\u001b[0m\u001b[1;33m]\u001b[0m\u001b[1;33m,\u001b[0m \u001b[0mstates\u001b[0m\u001b[1;33m,\u001b[0m \u001b[0mp_transfer\u001b[0m\u001b[1;33m,\u001b[0m \u001b[0mtouch_fraction\u001b[0m\u001b[1;33m=\u001b[0m\u001b[0mtouch_fraction\u001b[0m\u001b[1;33m)\u001b[0m\u001b[1;33m\u001b[0m\u001b[1;33m\u001b[0m\u001b[0m\n\u001b[0m\u001b[0;32m    142\u001b[0m             \u001b[0mstates\u001b[0m \u001b[1;33m=\u001b[0m \u001b[0mrecover_kernel\u001b[0m\u001b[1;33m(\u001b[0m\u001b[0mstates\u001b[0m\u001b[1;33m,\u001b[0m \u001b[0mSIR\u001b[0m\u001b[1;33m)\u001b[0m\u001b[1;33m\u001b[0m\u001b[1;33m\u001b[0m\u001b[0m\n\u001b[0;32m    143\u001b[0m \u001b[1;33m\u001b[0m\u001b[0m\n",
      "\u001b[1;32mD:\\College\\Year 4\\Fall 2019\\CSCI 5352\\CSCI5352-AirTravelInfluenza\\Code\\model_simulations.py\u001b[0m in \u001b[0;36mtravel_and_infect_kernel\u001b[1;34m(A, states, p_transfer, touch_fraction)\u001b[0m\n\u001b[0;32m     19\u001b[0m     \u001b[0mnew_states\u001b[0m \u001b[1;33m=\u001b[0m \u001b[0mcopy\u001b[0m\u001b[1;33m(\u001b[0m\u001b[0mstates\u001b[0m\u001b[1;33m)\u001b[0m\u001b[1;33m\u001b[0m\u001b[1;33m\u001b[0m\u001b[0m\n\u001b[0;32m     20\u001b[0m \u001b[1;33m\u001b[0m\u001b[0m\n\u001b[1;32m---> 21\u001b[1;33m     \u001b[0minfected_fraction\u001b[0m \u001b[1;33m=\u001b[0m \u001b[0mnp\u001b[0m\u001b[1;33m.\u001b[0m\u001b[0mzeros\u001b[0m\u001b[1;33m(\u001b[0m\u001b[1;33m(\u001b[0m\u001b[0mN\u001b[0m\u001b[1;33m,\u001b[0m\u001b[1;33m)\u001b[0m\u001b[1;33m)\u001b[0m\u001b[1;33m\u001b[0m\u001b[1;33m\u001b[0m\u001b[0m\n\u001b[0m\u001b[0;32m     22\u001b[0m     \u001b[1;32mfor\u001b[0m \u001b[0mi\u001b[0m \u001b[1;32min\u001b[0m \u001b[0mrange\u001b[0m\u001b[1;33m(\u001b[0m\u001b[0mN\u001b[0m\u001b[1;33m)\u001b[0m\u001b[1;33m:\u001b[0m\u001b[1;33m\u001b[0m\u001b[1;33m\u001b[0m\u001b[0m\n\u001b[0;32m     23\u001b[0m         \u001b[0minfected_fraction\u001b[0m\u001b[1;33m[\u001b[0m\u001b[0mi\u001b[0m\u001b[1;33m]\u001b[0m \u001b[1;33m=\u001b[0m \u001b[0mstates\u001b[0m\u001b[1;33m[\u001b[0m\u001b[0mi\u001b[0m\u001b[1;33m]\u001b[0m\u001b[1;33m.\u001b[0m\u001b[0minfected_fraction\u001b[0m\u001b[1;33m(\u001b[0m\u001b[1;33m)\u001b[0m\u001b[1;33m\u001b[0m\u001b[1;33m\u001b[0m\u001b[0m\n",
      "\u001b[1;31mKeyboardInterrupt\u001b[0m: "
     ]
    }
   ],
   "source": [
    "def perturbe(x, mu=0, sigma=1e-4):\n",
    "    return x + np.random.normal(mu, sigma, size=x.shape)\n",
    "\n",
    "def isvalid(x):\n",
    "    return (x <= 1).all() and (x >= 0).all()\n",
    "\n",
    "error_tol = 1e-4\n",
    "quarter = 1\n",
    "touch_fraction = 0.5\n",
    "\n",
    "x_best = np.array([0.1, 0.1, 0.99])\n",
    "# x_best = np.random.uniform(0, 1, size=(3,))\n",
    "print(x_best)\n",
    "Y_est = run_full_simulation(x_best, A_dict, all_population, years,\n",
    "                            sim_quarter=quarter, touch_fraction=touch_fraction)\n",
    "error = get_cost(deaths_matrix[quarter], Y_est)\n",
    "error_best = error\n",
    "\n",
    "print(\"0\", error)\n",
    "\n",
    "ctr = 0\n",
    "invalid_ctr = 0\n",
    "\n",
    "while error > error_tol:\n",
    "    x_i = perturbe(x_best, mu=0, sigma=1e-2)\n",
    "#     x_i = x_best + np.random.normal(0, 1e-3, size=x_best.shape)\n",
    "    if not isvalid(x_i):\n",
    "        invalid_ctr += 1\n",
    "        if invalid_ctr % 10 == 0:\n",
    "            print(\"Invalid: \", invalid_ctr)\n",
    "        continue\n",
    "    Y_est = run_full_simulation(x_i, A_dict, all_population, years,\n",
    "                                sim_quarter=quarter, touch_fraction=touch_fraction)\n",
    "    error = get_cost(deaths_matrix[quarter], Y_est)\n",
    "    ctr += 1\n",
    "    if error < error_best:\n",
    "        x_best = copy(x_i)\n",
    "        error_best = error\n",
    "        print(ctr, error)\n",
    "    elif ctr % 10 == 0:\n",
    "        print(\"Counter: \", ctr)"
   ]
  },
  {
   "cell_type": "code",
   "execution_count": 107,
   "metadata": {},
   "outputs": [
    {
     "name": "stdout",
     "output_type": "stream",
     "text": [
      "[0.16590685 0.18772156 0.94563735]\n",
      "0.0011423277508961598\n"
     ]
    }
   ],
   "source": [
    "quarter = 1\n",
    "print(x_best)\n",
    "sim_deaths = run_full_simulation(x_best, A_dict, all_population, years,\n",
    "                                 sim_quarter=quarter, touch_fraction=0.8)\n",
    "error = get_cost(deaths_matrix[quarter], sim_deaths)\n",
    "print(error)"
   ]
  },
  {
   "cell_type": "code",
   "execution_count": 109,
   "metadata": {},
   "outputs": [
    {
     "data": {
      "text/plain": [
       "662.516"
      ]
     },
     "execution_count": 109,
     "metadata": {},
     "output_type": "execute_result"
    }
   ],
   "source": [
    "fraction = np.abs(deaths_matrix[quarter] - sim_deaths)# / deaths_matrix[-1]\n",
    "np.mean(fraction)"
   ]
  },
  {
   "cell_type": "code",
   "execution_count": 111,
   "metadata": {},
   "outputs": [
    {
     "name": "stdout",
     "output_type": "stream",
     "text": [
      "88.832\n",
      "998.8885922744338\n"
     ]
    }
   ],
   "source": [
    "# simulated results = sim_deaths and real data = deaths_matrix\n",
    "diff = (deaths_matrix[quarter] - sim_deaths).flatten()\n",
    "print(np.mean(diff))\n",
    "print(np.std(diff))"
   ]
  },
  {
   "cell_type": "code",
   "execution_count": 112,
   "metadata": {},
   "outputs": [
    {
     "name": "stdout",
     "output_type": "stream",
     "text": [
      "0 1.19543532895225\n",
      "1 0.08732614437090064\n",
      "2 0.05293166766440453\n",
      "3 0.05382413196813852\n",
      "4 0.012315819119353685\n",
      "5 0.034036272623015354\n",
      "6 0.035515148813612674\n",
      "7 0.016054105700459762\n",
      "8 0.015735356217525025\n",
      "9 0.026011313247132826\n",
      "10 0.027058988050295794\n",
      "11 0.060863679191468775\n",
      "12 0.7480118686677176\n",
      "13 0.05243658665232812\n",
      "14 0.06308507299239856\n",
      "15 0.027264569897250637\n",
      "16 0.03725979327326261\n",
      "17 0.01821906339518552\n",
      "18 0.08503166364618514\n",
      "19 0.011483944878121191\n",
      "20 0.25884089457576615\n",
      "21 0.014780693870227722\n",
      "22 0.016271268334330298\n",
      "23 0.0634553732890666\n",
      "24 0.06271247932469537\n",
      "25 0.017399784525390163\n",
      "26 0.085141890017088\n",
      "27 0.21118766151067514\n",
      "28 0.045257133426421244\n",
      "29 0.4520020718081549\n",
      "30 0.07470013904260991\n",
      "31 0.6710940033565507\n",
      "32 0.24820926942275287\n",
      "33 0.09682607458924461\n",
      "34 0.023628043404767263\n",
      "35 0.036805747332327006\n",
      "36 0.014918692058958022\n",
      "37 0.023760462449084214\n",
      "38 0.03533283559970552\n",
      "39 0.020026490999927045\n",
      "40 0.036883404895820454\n",
      "41 0.030616897652329233\n",
      "42 0.01642760085593016\n",
      "43 0.039344766260740474\n",
      "44 0.09150584041517278\n",
      "45 0.829639670383148\n",
      "46 0.014250829928863805\n",
      "47 0.07081250120005503\n",
      "48 0.07829316033336679\n",
      "49 0.02176110890697646\n"
     ]
    }
   ],
   "source": [
    "stid = 0\n",
    "\n",
    "for stid in range(50):\n",
    "    norm_coeff = LA.norm(deaths_matrix[quarter][stid]) * sim_deaths[stid].shape[0]\n",
    "    print(stid, LA.norm(sim_deaths[stid] - deaths_matrix[quarter][stid]) / norm_coeff)\n",
    "    \n",
    "# print(sim_deaths[stid])\n",
    "# print(deaths_matrix[quarter][stid])"
   ]
  },
  {
   "cell_type": "code",
   "execution_count": 113,
   "metadata": {
    "scrolled": true
   },
   "outputs": [
    {
     "data": {
      "text/plain": [
       "[<matplotlib.lines.Line2D at 0x27a4fbfa9b0>]"
      ]
     },
     "execution_count": 113,
     "metadata": {},
     "output_type": "execute_result"
    },
    {
     "data": {
      "image/png": "[encoded data removed]",
      "text/plain": [
       "<Figure size 432x288 with 1 Axes>"
      ]
     },
     "metadata": {
      "needs_background": "light"
     },
     "output_type": "display_data"
    }
   ],
   "source": [
    "plt.plot(sim_deaths.sum(axis=0))\n",
    "plt.plot(deaths_matrix[1].sum(axis=0))"
   ]
  },
  {
   "cell_type": "code",
   "execution_count": 114,
   "metadata": {},
   "outputs": [
    {
     "data": {
      "text/plain": [
       "array([53967, 54239, 54719, 55109, 55538, 55737, 56106, 56880, 56953,\n",
       "       56911])"
      ]
     },
     "execution_count": 114,
     "metadata": {},
     "output_type": "execute_result"
    }
   ],
   "source": [
    "sim_deaths.sum(axis=0)"
   ]
  },
  {
   "cell_type": "code",
   "execution_count": 115,
   "metadata": {},
   "outputs": [
    {
     "data": {
      "text/plain": [
       "array([55328., 62320., 54454., 68337., 59616., 65912., 55858., 61637.,\n",
       "       71918., 45195.])"
      ]
     },
     "execution_count": 115,
     "metadata": {},
     "output_type": "execute_result"
    }
   ],
   "source": [
    "deaths_matrix[1].sum(axis=0)"
   ]
  },
  {
   "cell_type": "code",
   "execution_count": 116,
   "metadata": {},
   "outputs": [
    {
     "data": {
      "text/plain": [
       "array([[0.000e+00, 0.000e+00, 9.670e+03, ..., 0.000e+00, 5.000e+01,\n",
       "        0.000e+00],\n",
       "       [1.000e+01, 0.000e+00, 1.225e+04, ..., 0.000e+00, 3.000e+01,\n",
       "        0.000e+00],\n",
       "       [9.590e+03, 1.175e+04, 0.000e+00, ..., 0.000e+00, 4.018e+04,\n",
       "        4.000e+01],\n",
       "       ...,\n",
       "       [1.000e+01, 0.000e+00, 0.000e+00, ..., 0.000e+00, 1.000e+01,\n",
       "        0.000e+00],\n",
       "       [1.000e+01, 0.000e+00, 3.756e+04, ..., 0.000e+00, 0.000e+00,\n",
       "        0.000e+00],\n",
       "       [0.000e+00, 0.000e+00, 5.000e+01, ..., 0.000e+00, 0.000e+00,\n",
       "        0.000e+00]])"
      ]
     },
     "execution_count": 116,
     "metadata": {},
     "output_type": "execute_result"
    }
   ],
   "source": [
    "A_dict[2009][4]"
   ]
  },
  {
   "cell_type": "markdown",
   "metadata": {},
   "source": [
    "need beautiful plots!"
   ]
  },
  {
   "cell_type": "markdown",
   "metadata": {},
   "source": [
    "Tasks\n",
    "\n",
    "- Get convergence plots\n",
    "- Do for each season (quarter)\n",
    "- Learn parameters from first five years and predict the rest\n",
    "- Repeat with no travel and compare results\n",
    "- Why are some states absolutely terrible?"
   ]
  },
  {
   "cell_type": "code",
   "execution_count": 81,
   "metadata": {},
   "outputs": [
    {
     "ename": "NameError",
     "evalue": "name 'num_deceased' is not defined",
     "output_type": "error",
     "traceback": [
      "\u001b[0;31m---------------------------------------------------------------------------\u001b[0m",
      "\u001b[0;31mNameError\u001b[0m                                 Traceback (most recent call last)",
      "\u001b[0;32m<ipython-input-81-f2ad9836a074>\u001b[0m in \u001b[0;36m<module>\u001b[0;34m\u001b[0m\n\u001b[0;32m----> 1\u001b[0;31m \u001b[0mdeceased_df\u001b[0m \u001b[0;34m=\u001b[0m \u001b[0mpd\u001b[0m\u001b[0;34m.\u001b[0m\u001b[0mDataFrame\u001b[0m\u001b[0;34m.\u001b[0m\u001b[0mfrom_records\u001b[0m\u001b[0;34m(\u001b[0m\u001b[0;34m[\u001b[0m\u001b[0;34m[\u001b[0m\u001b[0mi\u001b[0m\u001b[0;34m,\u001b[0m \u001b[0mj\u001b[0m\u001b[0;34m]\u001b[0m \u001b[0;34m+\u001b[0m \u001b[0mnum_deceased\u001b[0m\u001b[0;34m[\u001b[0m\u001b[0mi\u001b[0m\u001b[0;34m]\u001b[0m\u001b[0;34m[\u001b[0m\u001b[0mj\u001b[0m\u001b[0;34m]\u001b[0m \u001b[0;32mfor\u001b[0m \u001b[0mi\u001b[0m \u001b[0;32min\u001b[0m \u001b[0mnum_deceased\u001b[0m \u001b[0;32mfor\u001b[0m \u001b[0mj\u001b[0m \u001b[0;32min\u001b[0m \u001b[0mnum_deceased\u001b[0m\u001b[0;34m[\u001b[0m\u001b[0mi\u001b[0m\u001b[0;34m]\u001b[0m\u001b[0;34m]\u001b[0m\u001b[0;34m)\u001b[0m\u001b[0;34m\u001b[0m\u001b[0;34m\u001b[0m\u001b[0m\n\u001b[0m\u001b[1;32m      2\u001b[0m \u001b[0mdeceased_df\u001b[0m\u001b[0;34m.\u001b[0m\u001b[0mto_csv\u001b[0m\u001b[0;34m(\u001b[0m\u001b[0;34m'deceased_df_real_data_3.csv'\u001b[0m\u001b[0;34m)\u001b[0m\u001b[0;34m\u001b[0m\u001b[0;34m\u001b[0m\u001b[0m\n",
      "\u001b[0;31mNameError\u001b[0m: name 'num_deceased' is not defined"
     ]
    }
   ],
   "source": [
    "deceased_df = pd.DataFrame.from_records([[i, j] + num_deceased[i][j] for i in num_deceased for j in num_deceased[i]])\n",
    "deceased_df.to_csv('deceased_df_real_data_3.csv')"
   ]
  },
  {
   "cell_type": "markdown",
   "metadata": {},
   "source": [
    "### Real Data No Travel"
   ]
  },
  {
   "cell_type": "code",
   "execution_count": null,
   "metadata": {},
   "outputs": [],
   "source": [
    "sim_time = time()\n",
    "\n",
    "states = []\n",
    "year_0 = 2009\n",
    "for state_id in range(50):\n",
    "    state = State(all_population[year_0][state_id])\n",
    "    state.num_infected += np.random.binomial(state.num_total, p_inf)\n",
    "    states.append(state)\n",
    "    \n",
    "# Propagate infection\n",
    "num_deceased_no_travel = {}\n",
    "\n",
    "# For each year:\n",
    "for year in years:\n",
    "    iter_time = time()\n",
    "    num_deceased_no_travel[year] = {}\n",
    "    # For each quarter:\n",
    "    for quarter in range(1, 5):\n",
    "        if year == 2009 and quarter != 4:\n",
    "            continue\n",
    "        if year == 2019 and quarter != 1:\n",
    "            continue\n",
    "        # 1. travel and infect\n",
    "        # 2. Recover\n",
    "        # 3. Remove deceased and store it\n",
    "        # 4. Randomly infect\n",
    "#         states = travel_and_infect_kernel(A_dict[year][quarter], states, p_transfer)\n",
    "        states = recover_kernel(states, SIR)\n",
    "        states, dead_peeps = remove_deceased_kernel(states)\n",
    "        num_deceased_no_travel[year][quarter] = dead_peeps\n",
    "        states = random_infection_kernel(states, p_inf)\n",
    "    \n",
    "    # Inject population\n",
    "    try:\n",
    "        pop_vec = inject_population_kernel(states, all_population[year+1])\n",
    "    except KeyError:\n",
    "        # We are at the end of our data\n",
    "        pass\n",
    "    \n",
    "    iter_time = time() - iter_time\n",
    "    print(\"Elapsed time for {}: {:.3f} s\".format(year, iter_time))\n",
    "\n",
    "sim_time = time() - sim_time\n",
    "print(\"Total elapsed time for simulation: {:.3f} s\".format(sim_time))"
   ]
  },
  {
   "cell_type": "code",
   "execution_count": null,
   "metadata": {},
   "outputs": [],
   "source": [
    "deceased_no_travel_df = pd.DataFrame.from_records([[i, j] + num_deceased_no_travel[i][j] for i in num_deceased_no_travel for j in num_deceased_no_travel[i]])\n",
    "deceased_no_travel_df.to_csv('deceased_df_no_travel_real_data_3.csv')\n"
   ]
  },
  {
   "cell_type": "markdown",
   "metadata": {},
   "source": [
    "# Centrality Plots"
   ]
  },
  {
   "cell_type": "code",
   "execution_count": 192,
   "metadata": {},
   "outputs": [
    {
     "data": {
      "image/png": "[encoded data removed]",
      "text/plain": [
       "<Figure size 1080x720 with 2 Axes>"
      ]
     },
     "metadata": {
      "needs_background": "light"
     },
     "output_type": "display_data"
    }
   ],
   "source": [
    "ut = 43\n",
    "mt = 25\n",
    "ut_travel = np.zeros((50,))\n",
    "mt_travel = np.zeros((50,))\n",
    "\n",
    "ctr = 0\n",
    "for year, quarterly_travel in A_dict.items():\n",
    "    for quarter, travel in quarterly_travel.items():\n",
    "        ut_travel += travel[ut]\n",
    "        mt_travel += travel[mt]\n",
    "        ctr += 1\n",
    "ut_travel /= ctr\n",
    "mt_travel /= ctr\n",
    "\n",
    "fig, ax = plt.subplots(2, 1, figsize=(15, 10))\n",
    "\n",
    "ax[0].bar(range(50), ut_travel, color=\"darkslategrey\", alpha=0.9)\n",
    "ax[1].bar(range(50), mt_travel, color=\"darkslategrey\", alpha=0.9)\n",
    "\n",
    "state_ids = [4, 5, 9, 12, 27, 42, 46]\n",
    "state_abbs = [stats_abb_ord_list[abb_id] for abb_id in state_ids]\n",
    "\n",
    "ax[0].set_xticks(state_ids)\n",
    "ax[0].set_xticklabels(state_abbs, rotation=\"90\")\n",
    "ax[0].set_yticks([1e5, 5e5])#, [\"1e5\", \"2e5\", \"3e5\", \"4e5\", \"5e5\"])\n",
    "\n",
    "ax[0].set_title(\"Utah\", fontsize=25)\n",
    "ax[0].set_ylabel(\"Out-flow\", fontsize=20)\n",
    "\n",
    "\n",
    "state_ids = [5, 22, 27, 43, 46]\n",
    "state_abbs = [stats_abb_ord_list[abb_id] for abb_id in state_ids]\n",
    "ax[1].set_xticks(state_ids)\n",
    "ax[1].set_xticklabels(state_abbs, rotation=\"90\")\n",
    "ax[1].set_yticks([0.2e5, 1e5])#, [\"1e5\", \"2e5\", \"3e5\", \"4e5\", \"5e5\"])\n",
    "\n",
    "ax[1].set_title(\"Montana\", fontsize=25)\n",
    "ax[1].set_ylabel(\"Out-flow\", fontsize=20)\n",
    "\n",
    "fig.subplots_adjust(hspace=0.5)\n",
    "\n",
    "# plt.gca().invert_yaxis()\n",
    "# plt.xticks([])\n",
    "\n",
    "plt.savefig(\"../figures/utmt-out-degree.PNG\", dpi=200, bbox_inches=\"tight\")\n",
    "\n",
    "plt.show()"
   ]
  },
  {
   "cell_type": "code",
   "execution_count": 149,
   "metadata": {},
   "outputs": [],
   "source": [
    "closeness_centrality = np.zeros((50,))\n",
    "ctr = 0\n",
    "for year, quarterly_travel in A_dict.items():\n",
    "    for quarter, travel in quarterly_travel.items():\n",
    "        closeness_centrality += travel.sum(axis=1)\n",
    "        ctr += 1\n",
    "closeness_centrality /= ctr"
   ]
  },
  {
   "cell_type": "code",
   "execution_count": 132,
   "metadata": {},
   "outputs": [],
   "source": [
    "plt.rcParams['axes.spines.right'] = False\n",
    "plt.rcParams['axes.spines.top'] = False\n",
    "plt.rc('xtick',labelsize=18)\n",
    "plt.rc('ytick',labelsize=18)"
   ]
  },
  {
   "cell_type": "markdown",
   "metadata": {},
   "source": [
    "### Spreading centrality"
   ]
  },
  {
   "cell_type": "code",
   "execution_count": 154,
   "metadata": {},
   "outputs": [],
   "source": [
    "num_deaths = np.zeros((50,))\n",
    "\n",
    "for ctrl_state_id in range(50):\n",
    "\n",
    "    A_spread = copy(A_dict)\n",
    "    for q in A_spread:\n",
    "        for A in A_spread[q]:\n",
    "            tmp = np.zeros((50, 50))\n",
    "            tmp[ctrl_state_id,: ] = A_spread[q][A][ctrl_state_id,: ]\n",
    "            A_spread[q][A] = copy(tmp)\n",
    "\n",
    "    p_vec = [0.07278656, 0.1854208, 0.96283932]\n",
    "    deaths = run_full_simulation(p_vec, A_spread, all_population, years, sim_quarter=-1)\n",
    "    num_deaths[ctrl_state_id] = np.sum(deaths) /deaths.shape[1]"
   ]
  },
  {
   "cell_type": "code",
   "execution_count": 161,
   "metadata": {},
   "outputs": [
    {
     "data": {
      "image/png": "[encoded data removed]",
      "text/plain": [
       "<Figure size 720x1080 with 2 Axes>"
      ]
     },
     "metadata": {
      "needs_background": "light"
     },
     "output_type": "display_data"
    }
   ],
   "source": [
    "fig, ax = plt.subplots(1, 2, figsize=(10, 15))\n",
    "\n",
    "ax[0].barh(range(50), closeness_centrality, color=\"dimgrey\", alpha=0.4)\n",
    "\n",
    "# state_ids = [4, 5, 8, 9, 12, 25, 31, 42, 43, 46]\n",
    "state_ids = [25, 43]\n",
    "state_abbs = [stats_abb_ord_list[abb_id] for abb_id in state_ids]\n",
    "\n",
    "ax[0].barh(state_ids, closeness_centrality[state_ids], color=\"crimson\", alpha=0.6)\n",
    "\n",
    "ax[0].set_yticks(state_ids)\n",
    "ax[0].set_yticklabels(state_abbs)\n",
    "\n",
    "ax[0].invert_yaxis()\n",
    "ax[0].set_xlabel(\"Out-degree\", fontsize=25)\n",
    "\n",
    "\n",
    "ax[1].barh(range(50), num_deaths, color=\"dimgrey\", alpha=0.4)\n",
    "\n",
    "# state_ids = list(np.argsort(num_deaths)[::-1][:6]) + [4, 8, 25, 31, 46]\n",
    "state_abbs = [stats_abb_ord_list[abb_id] for abb_id in state_ids]\n",
    "\n",
    "ax[1].barh(state_ids, num_deaths[state_ids], color=\"crimson\", alpha=0.6)\n",
    "\n",
    "ax[1].set_yticks(state_ids)\n",
    "ax[1].set_yticklabels(state_abbs)\n",
    "# plt.xticks([0, 5e5, 1e6, 1.5e6], [\"0\", \"0.5e6\", \"1e6\", \"1.5e6\"])\n",
    "\n",
    "ax[1].set_xlabel(\"Total deaths\", fontsize=25)\n",
    "\n",
    "ax[1].invert_yaxis()\n",
    "\n",
    "# plt.savefig(\"../figures/mt-ut-compare-centralities.PNG\", dpi=200, bbox_inches=\"tight\")\n",
    "\n",
    "plt.show()"
   ]
  },
  {
   "cell_type": "code",
   "execution_count": 142,
   "metadata": {},
   "outputs": [
    {
     "data": {
      "text/plain": [
       "array([43, 42,  4,  9, 12,  5, 25, 11, 27, 22, 46, 40, 31,  2, 30, 29, 45,\n",
       "       33, 36,  8, 35, 37, 20, 26, 24, 48,  6, 19, 34, 41, 14, 13, 15, 17,\n",
       "       21,  1, 16, 32, 23,  0, 10,  3, 39, 44, 38, 47,  7, 28, 49, 18],\n",
       "      dtype=int64)"
      ]
     },
     "execution_count": 142,
     "metadata": {},
     "output_type": "execute_result"
    }
   ],
   "source": [
    "np.argsort(num_deaths)[::-1]"
   ]
  },
  {
   "cell_type": "code",
   "execution_count": null,
   "metadata": {},
   "outputs": [],
   "source": []
  }
 ],
 "metadata": {
  "kernelspec": {
   "display_name": "Python 3",
   "language": "python",
   "name": "python3"
  },
  "language_info": {
   "codemirror_mode": {
    "name": "ipython",
    "version": 3
   },
   "file_extension": ".py",
   "mimetype": "text/x-python",
   "name": "python",
   "nbconvert_exporter": "python",
   "pygments_lexer": "ipython3",
   "version": "3.7.3"
  }
 },
 "nbformat": 4,
 "nbformat_minor": 2
}

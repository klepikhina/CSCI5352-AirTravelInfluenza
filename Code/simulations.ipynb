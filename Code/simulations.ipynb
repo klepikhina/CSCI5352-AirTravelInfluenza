{
 "cells": [
  {
   "cell_type": "code",
   "execution_count": 1,
   "metadata": {},
   "outputs": [],
   "source": [
    "import numpy as np\n",
    "import pandas as pd\n",
    "import matplotlib.pyplot as plt\n",
    "import networkx as nx\n",
    "\n",
    "from numpy import linalg as LA\n",
    "from time import time\n",
    "from pprint import pprint\n",
    "from copy import deepcopy as copy\n",
    "\n",
    "\n",
    "%matplotlib inline"
   ]
  },
  {
   "cell_type": "markdown",
   "metadata": {},
   "source": [
    "## Read data files\n",
    "\n",
    "**Note** We are keeping only the 50 states. DC not included. Self loops not included"
   ]
  },
  {
   "cell_type": "code",
   "execution_count": 2,
   "metadata": {},
   "outputs": [],
   "source": [
    "def read_US_states(fname):\n",
    "    states_abb_dict = {}\n",
    "    states_abb_rev_dict = {}\n",
    "    states_abb_ord_list = []\n",
    "    with open(fname, \"r\") as f:\n",
    "        for line in f:\n",
    "            line = line.strip().split(\",\")\n",
    "            name = line[0]\n",
    "            abbr = line[1]\n",
    "            states_abb_dict[name] = (abbr, len(states_abb_ord_list))\n",
    "            states_abb_rev_dict[abbr] = name\n",
    "            states_abb_ord_list.append(abbr)\n",
    "    \n",
    "    return states_abb_dict, states_abb_rev_dict, states_abb_ord_list\n",
    "\n",
    "def read_travel_network(fname, states_abb_dict, states_abb_rev_dict, normalization=1):\n",
    "    num_states = 50\n",
    "\n",
    "    adjacency_list = {}\n",
    "    A = np.zeros((num_states, num_states))\n",
    "\n",
    "    for abb in states_abb_rev_dict:\n",
    "        adjacency_list[abb] = []\n",
    "\n",
    "    with open(fname, \"r\") as f:\n",
    "        for idx, line in enumerate(f):\n",
    "            if idx == 0:\n",
    "                continue\n",
    "            line = line.strip().split(\",\")\n",
    "            orig = line[0]\n",
    "            dest = line[1]\n",
    "            weight = float(line[2])*10 / normalization\n",
    "            if orig == dest:\n",
    "                continue\n",
    "            try:\n",
    "                orig_abb, orig_idx = states_abb_dict[orig]\n",
    "                dest_abb, dest_idx = states_abb_dict[dest]\n",
    "                adjacency_list[orig_abb].append((dest_abb, weight))\n",
    "                A[orig_idx][dest_idx] = weight\n",
    "            except KeyError:\n",
    "                pass\n",
    "    \n",
    "    return adjacency_list, A\n",
    "\n",
    "def read_deaths_data(fname):\n",
    "    df = pd.read_csv(fname)\n",
    "    sum_df_d = df.groupby(['State', 'Year', 'Quarter'])[['DeathsFromPneumoniaAndInfluenza']].sum().T.to_dict()\n",
    "    deaths_dict = {}\n",
    "    for key, deaths in sum_df_d.items():\n",
    "        state, year, quarter = key\n",
    "        if state == \"DC\":\n",
    "            continue\n",
    "        if state not in deaths_dict:\n",
    "            deaths_dict[state] = {}\n",
    "        if year not in deaths_dict[state]:\n",
    "            deaths_dict[state][year] = {}\n",
    "        deaths_dict[state][year][quarter] = deaths[\"DeathsFromPneumoniaAndInfluenza\"]\n",
    "    return deaths_dict\n",
    "\n",
    "def read_population_dict(fname):\n",
    "    population_dict = {}\n",
    "    with open(fname, \"r\") as f:\n",
    "        for idx, line in enumerate(f):\n",
    "            if idx == 0:\n",
    "                continue\n",
    "            line = line.strip().split(\",\")\n",
    "            state = line[1]\n",
    "            population_dict[state] = {}\n",
    "            year = 2009\n",
    "            for idx, pop in enumerate(line[2:]):\n",
    "                population_dict[state][year + idx] = int(pop)\n",
    "    return population_dict"
   ]
  },
  {
   "cell_type": "markdown",
   "metadata": {},
   "source": [
    "## Simulation\n",
    "\n",
    "\n",
    "1. Randomly infect people in each state with probability `p_inf`\n",
    "    - Calculate fraction of infected people\n",
    "2. Air travel the people\n",
    "    - Fraction of infected air travelers is the same as origin state\n",
    "    - Each person has a chance to infect every other person in the new state with probability `p_transfer`\n",
    "3. In each state, either recover, kill, or remain infected the people there with probability `p_rec, p_die, p_stay`\n",
    "4. Increment, or decrement, population between years (not quarters)\n",
    "\n",
    "Totally, there are 4 parameters: `p_inf`, `p_transfer`, `p_rec`, `p_die`\n",
    "\n",
    "Note `p_stay = 1 - p_rec - p_die`\n",
    "\n",
    "Can make into a 3 parameter model by setting `p_stay = 0` i.e., between quarters, people either heal completely, or die.\n",
    "\n",
    "### Goal: Find the best parameters that represent the number of deaths observed"
   ]
  },
  {
   "cell_type": "code",
   "execution_count": 3,
   "metadata": {},
   "outputs": [],
   "source": [
    "class State:\n",
    "    def __init__(self, pop):\n",
    "        self.num_total = pop\n",
    "        self.num_infected = 0\n",
    "        self.num_deceased = 0\n",
    "    \n",
    "    def infected_fraction(self):\n",
    "        return self.num_infected / self.num_total"
   ]
  },
  {
   "cell_type": "markdown",
   "metadata": {},
   "source": [
    "### Kernels for simulation"
   ]
  },
  {
   "cell_type": "code",
   "execution_count": 228,
   "metadata": {},
   "outputs": [],
   "source": [
    "def travel_and_infect_kernel(A, states, p_transfer, verbose=False):\n",
    "    N = A.shape[0]\n",
    "    new_states = copy(states)\n",
    "    \n",
    "    infected_fraction = np.zeros((N,))\n",
    "    for i in range(N):\n",
    "        infected_fraction[i] = states[i].infected_fraction()\n",
    "    \n",
    "    touch_fraction = 1\n",
    "    \n",
    "    for dest_id in range(N):\n",
    "        \n",
    "        # Let X be number of successful infections.\n",
    "        # X is Binomial(n, p_transfer) where n is number of travelers.\n",
    "        # We want X >= 1 for each person at destination i.e.,\n",
    "        # at least one successful infection for each person at destination.\n",
    "        # So, calculate p' = P(X >= 1) = 1 - P(X = 0) = 1 - (1-p_transfer)^n.\n",
    "        # p' is the probability a person at destination gets infected.\n",
    "        # This reduces problem to calculate a new r.v. Y.\n",
    "        # Y is Binomial(m, p'), where m is the uninfected population of destination\n",
    "        \n",
    "        num_immigrants = A[:, i]\n",
    "        num_infected_immigrants = np.matmul(num_immigrants, infected_fraction.T)\n",
    "        # in expectation:\n",
    "        # num_infected_immigrants = np.sum(A[:, i]) * p_inf\n",
    "        ccdf = 1 - (1 - p_transfer)**num_infected_immigrants\n",
    "        dest = states[dest_id]\n",
    "        if dest.num_total - dest.num_infected > 0:\n",
    "            if np.isnan(ccdf):\n",
    "                ccdf = 1\n",
    "            new_states[dest_id].num_infected += np.random.binomial(\n",
    "                touch_fraction*(dest.num_total - dest.num_infected), ccdf)\n",
    "#             # in expectation:\n",
    "#             new_states[dest_id].num_infected += (dest.num_total - dest.num_infected) * ccdf\n",
    "        \n",
    "    return new_states\n",
    "\n",
    "def recover_kernel(states, SIR_params):\n",
    "    SIR_params = np.abs(SIR_params) / np.sum(np.abs(SIR_params))\n",
    "    for i, state in enumerate(states):\n",
    "        x = np.random.multinomial(states[i].num_infected, SIR_params)\n",
    "        recovered = x[0]\n",
    "        dead = x[2]\n",
    "        state.num_total = max(state.num_total - dead, 0)\n",
    "        states[i].num_infected -= (dead + recovered)\n",
    "        states[i].num_deceased += dead\n",
    "    return states\n",
    "\n",
    "def local_infection_kernel(states, p_transfer):\n",
    "    touch_fraction = 1\n",
    "    for i, state in enumerate(states):\n",
    "        states[i].num_infected = np.random.binomial(touch_fraction*(state.num_total - state.num_infected), p_transfer)\n",
    "    return states\n",
    "\n",
    "def remove_deceased_kernel(states):\n",
    "    num_deceased = []\n",
    "    for i, state in enumerate(states):\n",
    "        num_deceased.append(state.num_deceased)\n",
    "        state.num_deceased = 0\n",
    "        states[i] = state\n",
    "    return states, num_deceased\n",
    "    \n",
    "def inject_population_kernel(states, new_population):\n",
    "    # new_population is somehow ordered\n",
    "    for i, state in enumerate(states):\n",
    "        current_pop = state.num_total\n",
    "        nextgen_pop = new_population[i]\n",
    "        extra_peeps = nextgen_pop - current_pop\n",
    "        if extra_peeps > 0:\n",
    "            state.num_total += extra_peeps\n",
    "        elif extra_peeps < 0:\n",
    "            # population actually decreased... remove infected and susceptible at same rate\n",
    "            extra_peeps = -extra_peeps\n",
    "            if extra_peeps // 2 >= state.num_infected:\n",
    "                state.num_total = state.num_total - (extra_peeps - state.num_infected)\n",
    "                state.num_infected = 0\n",
    "            else:\n",
    "                state.num_infected -= (extra_peeps - extra_peeps//2)\n",
    "                state.num_total -= extra_peeps\n",
    "        states[i] = state\n",
    "    return states\n",
    "\n",
    "def random_infection_kernel(states, p_inf):\n",
    "    for i, state in enumerate(states):\n",
    "        if state.num_total < state.num_infected:\n",
    "            continue\n",
    "        infected = np.random.binomial(state.num_total - state.num_infected, p_inf)\n",
    "        state.num_infected += infected\n",
    "        states[i] = state\n",
    "    return states"
   ]
  },
  {
   "cell_type": "markdown",
   "metadata": {},
   "source": [
    "### Real data"
   ]
  },
  {
   "cell_type": "code",
   "execution_count": 229,
   "metadata": {},
   "outputs": [],
   "source": [
    "data_dir = \"../Data/Clean/\"\n",
    "deaths_fname = \"deaths_NCHS_processed.csv\"\n",
    "population_fname = \"population.csv\"\n",
    "\n",
    "states_abb_dict, states_abb_rev_dict, stats_abb_ord_list = read_US_states(data_dir + \"states_abb.csv\")\n",
    "deaths_dict = read_deaths_data(data_dir + deaths_fname)\n",
    "population_dict = read_population_dict(data_dir + population_fname)\n",
    "\n",
    "adj_list = {}\n",
    "A = {}\n",
    "A[2009] = {}\n",
    "A[2009][4] = read_travel_network(data_dir + \"2009_Q4.csv\", states_abb_dict, states_abb_rev_dict)[1]\n",
    "for year in range(2010, 2019):\n",
    "    A[year] = {}\n",
    "    for quarter in range(1, 5):\n",
    "        network_fname = str(year) + \"_Q\" + str(quarter) + \".csv\"\n",
    "        A[year][quarter] = read_travel_network(data_dir + network_fname, states_abb_dict, states_abb_rev_dict)[1]\n",
    "A[2019] = {}\n",
    "A[2019][1] = read_travel_network(data_dir + \"2019_Q1.csv\", states_abb_dict, states_abb_rev_dict)[1]\n",
    "\n",
    "all_population = {}\n",
    "years = [2009, 2010, 2011, 2012, 2013, 2014, 2015, 2016, 2017, 2018, 2019]\n",
    "for year in years:\n",
    "    all_population[year] = []\n",
    "\n",
    "\n",
    "for state,data in population_dict.items():\n",
    "    for year, pop in data.items():\n",
    "        all_population[year].append(pop)\n",
    "        if year == 2018:\n",
    "            all_population[2019].append(pop)\n",
    "        \n",
    "A_dict = A"
   ]
  },
  {
   "cell_type": "code",
   "execution_count": 230,
   "metadata": {},
   "outputs": [
    {
     "name": "stdout",
     "output_type": "stream",
     "text": [
      "(50, 38)\n",
      "(50, 10)\n",
      "(50, 9)\n",
      "(50, 9)\n",
      "(50, 10)\n"
     ]
    }
   ],
   "source": [
    "deaths_matrix = {-1: [], 1: [], 2: [], 3: [], 4:[]}\n",
    "for state, yearly_deaths_dict in deaths_dict.items():\n",
    "    deaths_vector = {}\n",
    "    for q in deaths_matrix:\n",
    "        deaths_vector[q] = []\n",
    "    for year, quarterly_deaths_dict in yearly_deaths_dict.items():\n",
    "#         if year > 2012:\n",
    "#             continue\n",
    "        for quarter, deaths_count in quarterly_deaths_dict.items():\n",
    "            deaths_vector[-1].append(deaths_count)\n",
    "            deaths_vector[quarter].append(deaths_count)\n",
    "    for q in deaths_matrix:\n",
    "        deaths_matrix[q].append(deaths_vector[q])\n",
    "        \n",
    "for q in deaths_matrix:\n",
    "    deaths_matrix[q] = np.array(deaths_matrix[q])\n",
    "    print(deaths_matrix[q].shape)"
   ]
  },
  {
   "cell_type": "code",
   "execution_count": 231,
   "metadata": {},
   "outputs": [
    {
     "name": "stdout",
     "output_type": "stream",
     "text": [
      "[59. 56. 61. 44. 65. 78. 57. 65. 60. 62. 44. 46. 70. 69. 45. 67. 67. 63.\n",
      " 67. 49. 86. 62. 56. 55. 61. 64. 54. 39. 80. 74. 66. 58. 61. 68. 70. 50.\n",
      " 52. 66.]\n",
      "[56. 78. 62. 69. 63. 62. 64. 74. 68. 66.]\n"
     ]
    }
   ],
   "source": [
    "print(deaths_matrix[-1][0])\n",
    "print(deaths_matrix[1][0])"
   ]
  },
  {
   "cell_type": "code",
   "execution_count": 283,
   "metadata": {},
   "outputs": [],
   "source": [
    "def run_full_simulation(x, A_dict, all_population, error=False, sim_quarter=-1):\n",
    "    p_inf = x[0]\n",
    "    p_transfer = x[1]\n",
    "    if p_inf < 0 or p_inf > 1 or p_transfer < 0 or p_transfer > 1:\n",
    "        return 10\n",
    "    p_rec = x[2]\n",
    "    p_die = 7.540044190323758e-05\n",
    "#     p_die = x[3]\n",
    "    p_stay = 1 - p_rec - p_die\n",
    "    SIR = [p_rec, p_stay, p_die]\n",
    "#     SIR = np.abs(SIR / np.abs(np.sum(SIR)))\n",
    "    states = []\n",
    "    year_0 = 2009\n",
    "    for state_id in range(50):\n",
    "        state = State(all_population[year_0][state_id])\n",
    "        state.num_infected += np.random.binomial(state.num_total, p_inf)\n",
    "        states.append(state)\n",
    "\n",
    "    # Propagate infection\n",
    "    num_deceased = {}\n",
    "\n",
    "    # For each year:\n",
    "    for year in years:\n",
    "        num_deceased[year] = {}\n",
    "        # For each quarter:\n",
    "        for quarter in range(1, 5):\n",
    "            if year == 2009 and quarter != 4:\n",
    "                continue\n",
    "            if year == 2019 and quarter != 1:\n",
    "                continue\n",
    "#             if year > 2012:\n",
    "#                 continue\n",
    "            if sim_quarter != -1 and quarter != sim_quarter:\n",
    "                continue\n",
    "            # 1. travel and infect\n",
    "            # 2. Recover\n",
    "            # 3. Remove deceased and store it\n",
    "            # 4. Randomly infect\n",
    "            if quarter == 1:\n",
    "                p_t = p_transfer*1\n",
    "                p_i = p_inf*1\n",
    "            elif quarter == 2:\n",
    "                p_t = p_transfer*0.5\n",
    "                p_i = p_inf*0.5\n",
    "            elif quarter == 3:\n",
    "                p_t = p_transfer*0.6\n",
    "                p_i = p_inf*0.6\n",
    "            elif quarter == 4:\n",
    "                p_t = p_transfer*0.8\n",
    "                p_i = p_inf*0.8\n",
    "            \n",
    "            states = travel_and_infect_kernel(A_dict[year][quarter], states, p_t)\n",
    "            states = recover_kernel(states, SIR)\n",
    "            \n",
    "            for i in range(8):\n",
    "                states = local_infection_kernel(states, p_t)\n",
    "                states = recover_kernel(states, SIR)\n",
    "            \n",
    "            states, dead_peeps = remove_deceased_kernel(states)\n",
    "            num_deceased[year][quarter] = dead_peeps\n",
    "            states = random_infection_kernel(states, p_i)\n",
    "\n",
    "        # Inject population\n",
    "        try:\n",
    "            pop_vec = inject_population_kernel(states, all_population[year+1])\n",
    "        except KeyError:\n",
    "            # We are at the end of our data\n",
    "            pass\n",
    "    \n",
    "    sim_deaths_matrix = []\n",
    "\n",
    "    for year, quarterly_deaths in num_deceased.items():\n",
    "        for quarter, deaths_vector in quarterly_deaths.items():\n",
    "            sim_deaths_matrix.append(deaths_vector)\n",
    "\n",
    "    sim_deaths_matrix = np.array(sim_deaths_matrix).T\n",
    "    \n",
    "    if error:\n",
    "        return LA.norm(deaths_matrix[sim_quarter] - sim_deaths_matrix, ord='fro') / LA.norm(deaths_matrix[sim_quarter], ord='fro')\n",
    "    else:\n",
    "        return sim_deaths_matrix"
   ]
  },
  {
   "cell_type": "code",
   "execution_count": 273,
   "metadata": {},
   "outputs": [
    {
     "name": "stdout",
     "output_type": "stream",
     "text": [
      "(50, 38)\n"
     ]
    }
   ],
   "source": [
    "# Fix parameters of the model\n",
    "P_inf = np.linspace(0.05, 0.2, num=100)\n",
    "P_transfer = np.linspace(0, 1, num=100)\n",
    "P_rec = np.linspace(0, 1, num=100)\n",
    "p_die = 7.540044190323758e-05\n",
    "\n",
    "x0 = np.array([P_inf[23], P_transfer[10], P_rec[33]])\n",
    "matrix = run_full_simulation(x0, A_dict, all_population, sim_quarter=-1)#, error=True)\n",
    "print(matrix.shape)"
   ]
  },
  {
   "cell_type": "markdown",
   "metadata": {},
   "source": [
    "### Random Walks?"
   ]
  },
  {
   "cell_type": "code",
   "execution_count": 274,
   "metadata": {
    "scrolled": true
   },
   "outputs": [
    {
     "name": "stdout",
     "output_type": "stream",
     "text": [
      "[0.1  0.1  0.99]\n",
      "0 0.567945031295989\n",
      "Counter:  10\n",
      "Invalid:  10\n",
      "Invalid:  20\n",
      "Counter:  20\n",
      "Invalid:  30\n",
      "Counter:  30\n",
      "Invalid:  40\n",
      "Counter:  40\n",
      "Invalid:  50\n",
      "Invalid:  60\n",
      "Invalid:  70\n",
      "Counter:  50\n",
      "Invalid:  80\n",
      "Invalid:  90\n",
      "Counter:  60\n",
      "Invalid:  100\n"
     ]
    },
    {
     "ename": "KeyboardInterrupt",
     "evalue": "",
     "output_type": "error",
     "traceback": [
      "\u001b[0;31m---------------------------------------------------------------------------\u001b[0m",
      "\u001b[0;31mKeyboardInterrupt\u001b[0m                         Traceback (most recent call last)",
      "\u001b[0;32m<ipython-input-274-caae202a9756>\u001b[0m in \u001b[0;36m<module>\u001b[0;34m\u001b[0m\n\u001b[1;32m     30\u001b[0m             \u001b[0mprint\u001b[0m\u001b[0;34m(\u001b[0m\u001b[0;34m\"Invalid: \"\u001b[0m\u001b[0;34m,\u001b[0m \u001b[0minvalid_ctr\u001b[0m\u001b[0;34m)\u001b[0m\u001b[0;34m\u001b[0m\u001b[0;34m\u001b[0m\u001b[0m\n\u001b[1;32m     31\u001b[0m         \u001b[0;32mcontinue\u001b[0m\u001b[0;34m\u001b[0m\u001b[0;34m\u001b[0m\u001b[0m\n\u001b[0;32m---> 32\u001b[0;31m     \u001b[0merror\u001b[0m \u001b[0;34m=\u001b[0m \u001b[0mround\u001b[0m\u001b[0;34m(\u001b[0m\u001b[0mrun_full_simulation\u001b[0m\u001b[0;34m(\u001b[0m\u001b[0mx_i\u001b[0m\u001b[0;34m,\u001b[0m \u001b[0mA_dict\u001b[0m\u001b[0;34m,\u001b[0m \u001b[0mall_population\u001b[0m\u001b[0;34m,\u001b[0m \u001b[0;32mTrue\u001b[0m\u001b[0;34m,\u001b[0m \u001b[0msim_quarter\u001b[0m\u001b[0;34m=\u001b[0m\u001b[0mquarter\u001b[0m\u001b[0;34m)\u001b[0m\u001b[0;34m,\u001b[0m \u001b[0;36m2\u001b[0m\u001b[0;34m)\u001b[0m\u001b[0;34m\u001b[0m\u001b[0;34m\u001b[0m\u001b[0m\n\u001b[0m\u001b[1;32m     33\u001b[0m     \u001b[0mctr\u001b[0m \u001b[0;34m+=\u001b[0m \u001b[0;36m1\u001b[0m\u001b[0;34m\u001b[0m\u001b[0;34m\u001b[0m\u001b[0m\n\u001b[1;32m     34\u001b[0m     \u001b[0;32mif\u001b[0m \u001b[0merror\u001b[0m \u001b[0;34m<\u001b[0m \u001b[0merror_best\u001b[0m\u001b[0;34m:\u001b[0m\u001b[0;34m\u001b[0m\u001b[0;34m\u001b[0m\u001b[0m\n",
      "\u001b[0;32m<ipython-input-272-433461f688c5>\u001b[0m in \u001b[0;36mrun_full_simulation\u001b[0;34m(x, A_dict, all_population, error, sim_quarter)\u001b[0m\n\u001b[1;32m     55\u001b[0m             \u001b[0;32mfor\u001b[0m \u001b[0mi\u001b[0m \u001b[0;32min\u001b[0m \u001b[0mrange\u001b[0m\u001b[0;34m(\u001b[0m\u001b[0;36m8\u001b[0m\u001b[0;34m)\u001b[0m\u001b[0;34m:\u001b[0m\u001b[0;34m\u001b[0m\u001b[0;34m\u001b[0m\u001b[0m\n\u001b[1;32m     56\u001b[0m                 \u001b[0mstates\u001b[0m \u001b[0;34m=\u001b[0m \u001b[0mlocal_infection_kernel\u001b[0m\u001b[0;34m(\u001b[0m\u001b[0mstates\u001b[0m\u001b[0;34m,\u001b[0m \u001b[0mp_t\u001b[0m\u001b[0;34m)\u001b[0m\u001b[0;34m\u001b[0m\u001b[0;34m\u001b[0m\u001b[0m\n\u001b[0;32m---> 57\u001b[0;31m                 \u001b[0mstates\u001b[0m \u001b[0;34m=\u001b[0m \u001b[0mrecover_kernel\u001b[0m\u001b[0;34m(\u001b[0m\u001b[0mstates\u001b[0m\u001b[0;34m,\u001b[0m \u001b[0mSIR\u001b[0m\u001b[0;34m)\u001b[0m\u001b[0;34m\u001b[0m\u001b[0;34m\u001b[0m\u001b[0m\n\u001b[0m\u001b[1;32m     58\u001b[0m \u001b[0;34m\u001b[0m\u001b[0m\n\u001b[1;32m     59\u001b[0m             \u001b[0mstates\u001b[0m\u001b[0;34m,\u001b[0m \u001b[0mdead_peeps\u001b[0m \u001b[0;34m=\u001b[0m \u001b[0mremove_deceased_kernel\u001b[0m\u001b[0;34m(\u001b[0m\u001b[0mstates\u001b[0m\u001b[0;34m)\u001b[0m\u001b[0;34m\u001b[0m\u001b[0;34m\u001b[0m\u001b[0m\n",
      "\u001b[0;32m<ipython-input-228-a64b2483bd48>\u001b[0m in \u001b[0;36mrecover_kernel\u001b[0;34m(states, SIR_params)\u001b[0m\n\u001b[1;32m     39\u001b[0m     \u001b[0mSIR_params\u001b[0m \u001b[0;34m=\u001b[0m \u001b[0mnp\u001b[0m\u001b[0;34m.\u001b[0m\u001b[0mabs\u001b[0m\u001b[0;34m(\u001b[0m\u001b[0mSIR_params\u001b[0m\u001b[0;34m)\u001b[0m \u001b[0;34m/\u001b[0m \u001b[0mnp\u001b[0m\u001b[0;34m.\u001b[0m\u001b[0msum\u001b[0m\u001b[0;34m(\u001b[0m\u001b[0mnp\u001b[0m\u001b[0;34m.\u001b[0m\u001b[0mabs\u001b[0m\u001b[0;34m(\u001b[0m\u001b[0mSIR_params\u001b[0m\u001b[0;34m)\u001b[0m\u001b[0;34m)\u001b[0m\u001b[0;34m\u001b[0m\u001b[0;34m\u001b[0m\u001b[0m\n\u001b[1;32m     40\u001b[0m     \u001b[0;32mfor\u001b[0m \u001b[0mi\u001b[0m\u001b[0;34m,\u001b[0m \u001b[0mstate\u001b[0m \u001b[0;32min\u001b[0m \u001b[0menumerate\u001b[0m\u001b[0;34m(\u001b[0m\u001b[0mstates\u001b[0m\u001b[0;34m)\u001b[0m\u001b[0;34m:\u001b[0m\u001b[0;34m\u001b[0m\u001b[0;34m\u001b[0m\u001b[0m\n\u001b[0;32m---> 41\u001b[0;31m         \u001b[0mx\u001b[0m \u001b[0;34m=\u001b[0m \u001b[0mnp\u001b[0m\u001b[0;34m.\u001b[0m\u001b[0mrandom\u001b[0m\u001b[0;34m.\u001b[0m\u001b[0mmultinomial\u001b[0m\u001b[0;34m(\u001b[0m\u001b[0mstates\u001b[0m\u001b[0;34m[\u001b[0m\u001b[0mi\u001b[0m\u001b[0;34m]\u001b[0m\u001b[0;34m.\u001b[0m\u001b[0mnum_infected\u001b[0m\u001b[0;34m,\u001b[0m \u001b[0mSIR_params\u001b[0m\u001b[0;34m)\u001b[0m\u001b[0;34m\u001b[0m\u001b[0;34m\u001b[0m\u001b[0m\n\u001b[0m\u001b[1;32m     42\u001b[0m         \u001b[0mrecovered\u001b[0m \u001b[0;34m=\u001b[0m \u001b[0mx\u001b[0m\u001b[0;34m[\u001b[0m\u001b[0;36m0\u001b[0m\u001b[0;34m]\u001b[0m\u001b[0;34m\u001b[0m\u001b[0;34m\u001b[0m\u001b[0m\n\u001b[1;32m     43\u001b[0m         \u001b[0mdead\u001b[0m \u001b[0;34m=\u001b[0m \u001b[0mx\u001b[0m\u001b[0;34m[\u001b[0m\u001b[0;36m2\u001b[0m\u001b[0;34m]\u001b[0m\u001b[0;34m\u001b[0m\u001b[0;34m\u001b[0m\u001b[0m\n",
      "\u001b[0;31mKeyboardInterrupt\u001b[0m: "
     ]
    }
   ],
   "source": [
    "def perturbe(x, mu=0, sigma=1e-4):\n",
    "    return x + np.random.normal(mu, sigma, size=x.shape)\n",
    "\n",
    "def isvalid(x):\n",
    "    return (x <= 1).all() and (x >= 0).all()\n",
    "\n",
    "error_tol = 0.5\n",
    "quarter = -1\n",
    "\n",
    "# x_best = np.array([1.50141914e-03, 5.08739999e-04, 9.85804602e-01])\n",
    "# x_best = np.array([2.44585049e-02, 5.19930292e-05, 9.11488483e-01])\n",
    "# x_best = np.array([2.47333730e-02, 8.97588162e-05, 9.79676153e-01])\n",
    "# x_best = np.array([2.45480162e-02, 3.68910748e-04, 9.79240520e-01, 2.88207661e-05])\n",
    "x_best = np.array([0.1, 0.1, 0.99])\n",
    "# x_best = np.random.uniform(0, 1, size=(3,))\n",
    "print(x_best)\n",
    "error = run_full_simulation(x_best, A_dict, all_population, True, sim_quarter=quarter)\n",
    "print(\"0\", error)\n",
    "error_best = round(error,2)\n",
    "\n",
    "ctr = 0\n",
    "invalid_ctr = 0\n",
    "\n",
    "while error > error_tol:\n",
    "    x_i = perturbe(x_best, mu=0, sigma=1e-1)\n",
    "#     x_i = x_best + np.random.normal(0, 1e-3, size=x_best.shape)\n",
    "    if not isvalid(x_i):\n",
    "        invalid_ctr += 1\n",
    "        if invalid_ctr % 10 == 0:\n",
    "            print(\"Invalid: \", invalid_ctr)\n",
    "        continue\n",
    "    error = round(run_full_simulation(x_i, A_dict, all_population, True, sim_quarter=quarter), 2)\n",
    "    ctr += 1\n",
    "    if error < error_best:\n",
    "        x_best = copy(x_i)\n",
    "        error_best = error\n",
    "        print(ctr, error)\n",
    "    elif ctr % 10 == 0:\n",
    "        print(\"Counter: \", ctr)"
   ]
  },
  {
   "cell_type": "code",
   "execution_count": 275,
   "metadata": {},
   "outputs": [
    {
     "name": "stdout",
     "output_type": "stream",
     "text": [
      "[0.1  0.1  0.99]\n"
     ]
    }
   ],
   "source": [
    "print(x_best)\n",
    "sim_deaths = run_full_simulation(np.array([0.1, 0.1, 0.99]), A_dict, all_population, sim_quarter=quarter)"
   ]
  },
  {
   "cell_type": "code",
   "execution_count": 276,
   "metadata": {},
   "outputs": [],
   "source": [
    "sim_deaths_best = run_full_simulation(np.array(x_best), A_dict, all_population, sim_quarter=quarter)"
   ]
  },
  {
   "cell_type": "code",
   "execution_count": null,
   "metadata": {},
   "outputs": [],
   "source": []
  },
  {
   "cell_type": "code",
   "execution_count": 277,
   "metadata": {},
   "outputs": [
    {
     "data": {
      "text/plain": [
       "527.3321052631579"
      ]
     },
     "execution_count": 277,
     "metadata": {},
     "output_type": "execute_result"
    }
   ],
   "source": [
    "fraction = np.abs(deaths_matrix[quarter] - sim_deaths_best)# / deaths_matrix[-1]\n",
    "np.mean(fraction)"
   ]
  },
  {
   "cell_type": "code",
   "execution_count": 278,
   "metadata": {},
   "outputs": [
    {
     "name": "stdout",
     "output_type": "stream",
     "text": [
      "194.5794736842105\n",
      "775.5946598033747\n"
     ]
    }
   ],
   "source": [
    "# simulated results = sim_deaths and real data = deaths_matrix\n",
    "diff = (deaths_matrix[quarter] - sim_deaths_best).flatten()\n",
    "print(np.mean(diff))\n",
    "print(np.std(diff))"
   ]
  },
  {
   "cell_type": "code",
   "execution_count": 279,
   "metadata": {},
   "outputs": [
    {
     "data": {
      "text/plain": [
       "<matplotlib.legend.Legend at 0xa263192e8>"
      ]
     },
     "execution_count": 279,
     "metadata": {},
     "output_type": "execute_result"
    },
    {
     "data": {
      "image/png": "[encoded data removed]",
      "text/plain": [
       "<Figure size 720x576 with 1 Axes>"
      ]
     },
     "metadata": {
      "needs_background": "light"
     },
     "output_type": "display_data"
    }
   ],
   "source": [
    "## Arizona\n",
    "plt.figure(figsize=[10,8])\n",
    "plt.plot(range(38), sim_deaths_best[2])\n",
    "plt.plot(range(38), deaths_matrix[-1][2])\n",
    "plt.legend([\"sim\", \"real\"])"
   ]
  },
  {
   "cell_type": "code",
   "execution_count": 280,
   "metadata": {},
   "outputs": [
    {
     "data": {
      "text/plain": [
       "<matplotlib.legend.Legend at 0xa28fe15c0>"
      ]
     },
     "execution_count": 280,
     "metadata": {},
     "output_type": "execute_result"
    },
    {
     "data": {
      "image/png": "[encoded data removed]",
      "text/plain": [
       "<Figure size 720x576 with 1 Axes>"
      ]
     },
     "metadata": {
      "needs_background": "light"
     },
     "output_type": "display_data"
    }
   ],
   "source": [
    "## Alabama\n",
    "plt.figure(figsize=[10,8])\n",
    "plt.plot(range(38), sim_deaths_best[0])\n",
    "plt.plot(range(38), deaths_matrix[-1][0])\n",
    "plt.legend([\"sim\", \"real\"])"
   ]
  },
  {
   "cell_type": "markdown",
   "metadata": {},
   "source": [
    "need beautiful plots!"
   ]
  },
  {
   "cell_type": "code",
   "execution_count": 281,
   "metadata": {},
   "outputs": [
    {
     "data": {
      "text/plain": [
       "(50, 38)"
      ]
     },
     "execution_count": 281,
     "metadata": {},
     "output_type": "execute_result"
    }
   ],
   "source": [
    "sim_deaths_best.shape"
   ]
  },
  {
   "cell_type": "code",
   "execution_count": 282,
   "metadata": {},
   "outputs": [],
   "source": [
    "deceased_df = pd.DataFrame(sim_deaths_best)\n",
    "deceased_df.to_csv('deceased_df_real_data_4.csv')"
   ]
  },
  {
   "cell_type": "code",
   "execution_count": 260,
   "metadata": {},
   "outputs": [],
   "source": [
    "# deceased_df = pd.DataFrame.from_records([[i, j] + num_deceased[i][j] for i in num_deceased for j in num_deceased[i]])\n",
    "# deceased_df.to_csv('deceased_df_real_data_3.csv')"
   ]
  },
  {
   "cell_type": "markdown",
   "metadata": {},
   "source": [
    "### Real Data No Travel"
   ]
  },
  {
   "cell_type": "code",
   "execution_count": 284,
   "metadata": {},
   "outputs": [
    {
     "ename": "NameError",
     "evalue": "name 'p_inf' is not defined",
     "output_type": "error",
     "traceback": [
      "\u001b[0;31m---------------------------------------------------------------------------\u001b[0m",
      "\u001b[0;31mNameError\u001b[0m                                 Traceback (most recent call last)",
      "\u001b[0;32m<ipython-input-284-bbc70d809680>\u001b[0m in \u001b[0;36m<module>\u001b[0;34m\u001b[0m\n\u001b[1;32m      5\u001b[0m \u001b[0;32mfor\u001b[0m \u001b[0mstate_id\u001b[0m \u001b[0;32min\u001b[0m \u001b[0mrange\u001b[0m\u001b[0;34m(\u001b[0m\u001b[0;36m50\u001b[0m\u001b[0;34m)\u001b[0m\u001b[0;34m:\u001b[0m\u001b[0;34m\u001b[0m\u001b[0;34m\u001b[0m\u001b[0m\n\u001b[1;32m      6\u001b[0m     \u001b[0mstate\u001b[0m \u001b[0;34m=\u001b[0m \u001b[0mState\u001b[0m\u001b[0;34m(\u001b[0m\u001b[0mall_population\u001b[0m\u001b[0;34m[\u001b[0m\u001b[0myear_0\u001b[0m\u001b[0;34m]\u001b[0m\u001b[0;34m[\u001b[0m\u001b[0mstate_id\u001b[0m\u001b[0;34m]\u001b[0m\u001b[0;34m)\u001b[0m\u001b[0;34m\u001b[0m\u001b[0;34m\u001b[0m\u001b[0m\n\u001b[0;32m----> 7\u001b[0;31m     \u001b[0mstate\u001b[0m\u001b[0;34m.\u001b[0m\u001b[0mnum_infected\u001b[0m \u001b[0;34m+=\u001b[0m \u001b[0mnp\u001b[0m\u001b[0;34m.\u001b[0m\u001b[0mrandom\u001b[0m\u001b[0;34m.\u001b[0m\u001b[0mbinomial\u001b[0m\u001b[0;34m(\u001b[0m\u001b[0mstate\u001b[0m\u001b[0;34m.\u001b[0m\u001b[0mnum_total\u001b[0m\u001b[0;34m,\u001b[0m \u001b[0mp_inf\u001b[0m\u001b[0;34m)\u001b[0m\u001b[0;34m\u001b[0m\u001b[0;34m\u001b[0m\u001b[0m\n\u001b[0m\u001b[1;32m      8\u001b[0m     \u001b[0mstates\u001b[0m\u001b[0;34m.\u001b[0m\u001b[0mappend\u001b[0m\u001b[0;34m(\u001b[0m\u001b[0mstate\u001b[0m\u001b[0;34m)\u001b[0m\u001b[0;34m\u001b[0m\u001b[0;34m\u001b[0m\u001b[0m\n\u001b[1;32m      9\u001b[0m \u001b[0;34m\u001b[0m\u001b[0m\n",
      "\u001b[0;31mNameError\u001b[0m: name 'p_inf' is not defined"
     ]
    }
   ],
   "source": [
    "sim_time = time()\n",
    "\n",
    "states = []\n",
    "year_0 = 2009\n",
    "for state_id in range(50):\n",
    "    state = State(all_population[year_0][state_id])\n",
    "    state.num_infected += np.random.binomial(state.num_total, p_inf)\n",
    "    states.append(state)\n",
    "    \n",
    "# Propagate infection\n",
    "num_deceased_no_travel = {}\n",
    "\n",
    "# For each year:\n",
    "for year in years:\n",
    "    iter_time = time()\n",
    "    num_deceased_no_travel[year] = {}\n",
    "    # For each quarter:\n",
    "    for quarter in range(1, 5):\n",
    "        if year == 2009 and quarter != 4:\n",
    "            continue\n",
    "        if year == 2019 and quarter != 1:\n",
    "            continue\n",
    "        # 1. travel and infect\n",
    "        # 2. Recover\n",
    "        # 3. Remove deceased and store it\n",
    "        # 4. Randomly infect\n",
    "#         states = travel_and_infect_kernel(A_dict[year][quarter], states, p_transfer)\n",
    "        if quarter == 1:\n",
    "            p_t = p_transfer*1\n",
    "            p_i = p_inf*1\n",
    "        elif quarter == 2:\n",
    "            p_t = p_transfer*0.5\n",
    "            p_i = p_inf*0.5\n",
    "        elif quarter == 3:\n",
    "            p_t = p_transfer*0.6\n",
    "            p_i = p_inf*0.6\n",
    "        elif quarter == 4:\n",
    "            p_t = p_transfer*0.8\n",
    "            p_i = p_inf*0.8\n",
    "        \n",
    "        states = recover_kernel(states, SIR)\n",
    "        states, dead_peeps = remove_deceased_kernel(states)\n",
    "        num_deceased_no_travel[year][quarter] = dead_peeps\n",
    "        states = random_infection_kernel(states, p_i)\n",
    "    \n",
    "    # Inject population\n",
    "    try:\n",
    "        pop_vec = inject_population_kernel(states, all_population[year+1])\n",
    "    except KeyError:\n",
    "        # We are at the end of our data\n",
    "        pass\n",
    "    \n",
    "    iter_time = time() - iter_time\n",
    "    print(\"Elapsed time for {}: {:.3f} s\".format(year, iter_time))\n",
    "\n",
    "sim_time = time() - sim_time\n",
    "print(\"Total elapsed time for simulation: {:.3f} s\".format(sim_time))"
   ]
  },
  {
   "cell_type": "code",
   "execution_count": null,
   "metadata": {},
   "outputs": [],
   "source": [
    "deceased_no_travel_df = pd.DataFrame.from_records([[i, j] + num_deceased_no_travel[i][j] for i in num_deceased_no_travel for j in num_deceased_no_travel[i]])\n",
    "deceased_no_travel_df.to_csv('deceased_df_no_travel_real_data_3.csv')\n"
   ]
  },
  {
   "cell_type": "code",
   "execution_count": null,
   "metadata": {},
   "outputs": [],
   "source": []
  }
 ],
 "metadata": {
  "kernelspec": {
   "display_name": "Python 3",
   "language": "python",
   "name": "python3"
  },
  "language_info": {
   "codemirror_mode": {
    "name": "ipython",
    "version": 3
   },
   "file_extension": ".py",
   "mimetype": "text/x-python",
   "name": "python",
   "nbconvert_exporter": "python",
   "pygments_lexer": "ipython3",
   "version": "3.6.8"
  }
 },
 "nbformat": 4,
 "nbformat_minor": 2
}

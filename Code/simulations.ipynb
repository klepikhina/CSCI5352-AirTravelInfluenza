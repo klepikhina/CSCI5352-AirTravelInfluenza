{
 "cells": [
  {
   "cell_type": "code",
   "execution_count": 2,
   "metadata": {},
   "outputs": [],
   "source": [
    "import numpy as np\n",
    "import matplotlib.pyplot as plt\n",
    "import networkx as nx\n",
    "\n",
    "from read_data import *\n",
    "from model_simulations import *\n",
    "from numpy import linalg as LA\n",
    "from time import time\n",
    "from pprint import pprint\n",
    "from copy import deepcopy as copy\n",
    "\n",
    "\n",
    "%matplotlib inline\n",
    "%load_ext autoreload\n",
    "%aimport read_data\n",
    "%aimport model_simulations\n",
    "%autoreload 1"
   ]
  },
  {
   "cell_type": "markdown",
   "metadata": {},
   "source": [
    "## Simulation\n",
    "\n",
    "\n",
    "1. Randomly infect people in each state with probability `p_inf`\n",
    "    - Calculate fraction of infected people\n",
    "2. Air travel the people\n",
    "    - Fraction of infected air travelers is the same as origin state\n",
    "    - Each person has a chance to infect every other person in the new state with probability `p_transfer`\n",
    "3. In each state, either recover, kill, or remain infected the people there with probability `p_rec, p_die, p_stay`\n",
    "4. Increment, or decrement, population between years (not quarters)\n",
    "\n",
    "Totally, there are 4 parameters: `p_inf`, `p_transfer`, `p_rec`, `p_die`\n",
    "\n",
    "Note `p_stay = 1 - p_rec - p_die`\n",
    "\n",
    "Can make into a 3 parameter model by setting `p_stay = 0` i.e., between quarters, people either heal completely, or die.\n",
    "\n",
    "### Goal: Find the best parameters that represent the number of deaths observed"
   ]
  },
  {
   "cell_type": "code",
   "execution_count": 3,
   "metadata": {},
   "outputs": [],
   "source": [
    "data_dir = \"../Data/Clean/\"\n",
    "deaths_fname = \"deaths_NCHS_processed.csv\"\n",
    "population_fname = \"population.csv\"\n",
    "\n",
    "states_abb_dict, states_abb_rev_dict, stats_abb_ord_list = read_US_states(data_dir + \"states_abb.csv\")\n",
    "deaths_dict = read_deaths_data(data_dir + deaths_fname)\n",
    "population_dict = read_population_dict(data_dir + population_fname)\n",
    "\n",
    "adj_list = {}\n",
    "A = {}\n",
    "A[2009] = {}\n",
    "A[2009][4] = read_travel_network(data_dir + \"2009_Q4.csv\", states_abb_dict, states_abb_rev_dict)[1]\n",
    "for year in range(2010, 2019):\n",
    "    A[year] = {}\n",
    "    for quarter in range(1, 5):\n",
    "        network_fname = str(year) + \"_Q\" + str(quarter) + \".csv\"\n",
    "        A[year][quarter] = read_travel_network(data_dir + network_fname, states_abb_dict, states_abb_rev_dict)[1]\n",
    "A[2019] = {}\n",
    "A[2019][1] = read_travel_network(data_dir + \"2019_Q1.csv\", states_abb_dict, states_abb_rev_dict)[1]\n",
    "\n",
    "all_population = {}\n",
    "years = [2009, 2010, 2011, 2012, 2013, 2014, 2015, 2016, 2017, 2018, 2019]\n",
    "for year in years:\n",
    "    all_population[year] = []\n",
    "\n",
    "\n",
    "for state,data in population_dict.items():\n",
    "    for year, pop in data.items():\n",
    "        all_population[year].append(pop)\n",
    "        if year == 2018:\n",
    "            all_population[2019].append(pop)\n",
    "        \n",
    "A_dict = A"
   ]
  },
  {
   "cell_type": "code",
   "execution_count": 168,
   "metadata": {},
   "outputs": [
    {
     "name": "stdout",
     "output_type": "stream",
     "text": [
      "(50, 38)\n",
      "(50, 10)\n",
      "(50, 9)\n",
      "(50, 9)\n",
      "(50, 10)\n"
     ]
    }
   ],
   "source": [
    "deaths_matrix = {-1: [], 1: [], 2: [], 3: [], 4:[]}\n",
    "for state, yearly_deaths_dict in deaths_dict.items():\n",
    "    deaths_vector = {}\n",
    "    for q in deaths_matrix:\n",
    "        deaths_vector[q] = []\n",
    "    for year, quarterly_deaths_dict in yearly_deaths_dict.items():\n",
    "#         if year > 2012:\n",
    "#             continue\n",
    "        for quarter, deaths_count in quarterly_deaths_dict.items():\n",
    "            deaths_vector[-1].append(deaths_count)\n",
    "            deaths_vector[quarter].append(deaths_count)\n",
    "    for q in deaths_matrix:\n",
    "        deaths_matrix[q].append(deaths_vector[q])\n",
    "        \n",
    "for q in deaths_matrix:\n",
    "    deaths_matrix[q] = np.array(deaths_matrix[q])\n",
    "    print(deaths_matrix[q].shape)"
   ]
  },
  {
   "cell_type": "code",
   "execution_count": 16,
   "metadata": {},
   "outputs": [
    {
     "name": "stdout",
     "output_type": "stream",
     "text": [
      "0.6287975490966751\n"
     ]
    }
   ],
   "source": [
    "# Fix parameters of the model\n",
    "P_inf = np.linspace(0.05, 0.2, num=100)\n",
    "P_transfer = np.linspace(0, 1, num=100)\n",
    "P_rec = np.linspace(0, 1, num=100)\n",
    "p_die = 7.540044190323758e-05\n",
    "\n",
    "sim_quarter = 1\n",
    "touch_fraction = 1\n",
    "\n",
    "x0 = np.array([P_inf[23], P_transfer[10], P_rec[33]])\n",
    "Y_est = run_full_simulation(x0, A_dict, all_population, years,\n",
    "                            sim_quarter=sim_quarter, touch_fraction=touch_fraction)\n",
    "cost = get_cost(deaths_matrix[sim_quarter], Y_est)\n",
    "print(cost)"
   ]
  },
  {
   "cell_type": "markdown",
   "metadata": {},
   "source": [
    "### Random Walks?"
   ]
  },
  {
   "cell_type": "code",
   "execution_count": 87,
   "metadata": {
    "scrolled": false
   },
   "outputs": [
    {
     "name": "stdout",
     "output_type": "stream",
     "text": [
      "[0.1  0.1  0.99]\n",
      "0 0.001249159995721781\n",
      "2 0.0012123480418399209\n",
      "4 0.001210438662614968\n",
      "5 0.0011977825856319532\n",
      "6 0.001191258397361794\n",
      "8 0.001162652089184045\n",
      "9 0.0011533196883892593\n",
      "Counter:  10\n",
      "11 0.0011461559005422773\n",
      "13 0.0011281904008710254\n",
      "Counter:  20\n",
      "21 0.0011236555675854176\n",
      "22 0.001123204648303949\n",
      "23 0.0011199140476787453\n",
      "27 0.0011182991998665154\n",
      "29 0.0011178753185741802\n",
      "Counter:  30\n",
      "39 0.001116996250700342\n",
      "Counter:  40\n",
      "error\n",
      "error\n",
      "error\n",
      "error\n",
      "Invalid:  60\n",
      "error\n",
      "error\n",
      "error\n",
      "error\n",
      "error\n",
      "Invalid:  70\n",
      "error\n",
      "Counter:  50\n",
      "56 0.0011146581820391662\n",
      "Counter:  60\n",
      "Counter:  70\n",
      "Counter:  80\n",
      "Counter:  90\n",
      "Counter:  100\n",
      "Counter:  110\n"
     ]
    },
    {
     "ename": "KeyboardInterrupt",
     "evalue": "",
     "output_type": "error",
     "traceback": [
      "\u001b[1;31m---------------------------------------------------------------------------\u001b[0m",
      "\u001b[1;31mKeyboardInterrupt\u001b[0m                         Traceback (most recent call last)",
      "\u001b[1;32m<ipython-input-87-fe3a24be883d>\u001b[0m in \u001b[0;36m<module>\u001b[1;34m\u001b[0m\n\u001b[0;32m     31\u001b[0m         \u001b[1;32mcontinue\u001b[0m\u001b[1;33m\u001b[0m\u001b[1;33m\u001b[0m\u001b[0m\n\u001b[0;32m     32\u001b[0m     Y_est = run_full_simulation(x_i, A_dict, all_population, years,\n\u001b[1;32m---> 33\u001b[1;33m                                 sim_quarter=quarter, touch_fraction=touch_fraction)\n\u001b[0m\u001b[0;32m     34\u001b[0m     \u001b[0merror\u001b[0m \u001b[1;33m=\u001b[0m \u001b[0mget_cost\u001b[0m\u001b[1;33m(\u001b[0m\u001b[0mdeaths_matrix\u001b[0m\u001b[1;33m[\u001b[0m\u001b[0mquarter\u001b[0m\u001b[1;33m]\u001b[0m\u001b[1;33m,\u001b[0m \u001b[0mY_est\u001b[0m\u001b[1;33m)\u001b[0m\u001b[1;33m\u001b[0m\u001b[1;33m\u001b[0m\u001b[0m\n\u001b[0;32m     35\u001b[0m     \u001b[0mctr\u001b[0m \u001b[1;33m+=\u001b[0m \u001b[1;36m1\u001b[0m\u001b[1;33m\u001b[0m\u001b[1;33m\u001b[0m\u001b[0m\n",
      "\u001b[1;32mD:\\College\\Year 4\\Fall 2019\\CSCI 5352\\CSCI5352-AirTravelInfluenza\\Code\\model_simulations.py\u001b[0m in \u001b[0;36mrun_full_simulation\u001b[1;34m(x, A_dict, all_population, years, sim_quarter, touch_fraction)\u001b[0m\n\u001b[0;32m    143\u001b[0m \u001b[1;33m\u001b[0m\u001b[0m\n\u001b[0;32m    144\u001b[0m             \u001b[1;32mfor\u001b[0m \u001b[0mi\u001b[0m \u001b[1;32min\u001b[0m \u001b[0mrange\u001b[0m\u001b[1;33m(\u001b[0m\u001b[1;36m8\u001b[0m\u001b[1;33m)\u001b[0m\u001b[1;33m:\u001b[0m\u001b[1;33m\u001b[0m\u001b[1;33m\u001b[0m\u001b[0m\n\u001b[1;32m--> 145\u001b[1;33m                 \u001b[0mstates\u001b[0m \u001b[1;33m=\u001b[0m \u001b[0mlocal_infection_kernel\u001b[0m\u001b[1;33m(\u001b[0m\u001b[0mstates\u001b[0m\u001b[1;33m,\u001b[0m \u001b[0mp_transfer\u001b[0m\u001b[1;33m)\u001b[0m\u001b[1;33m\u001b[0m\u001b[1;33m\u001b[0m\u001b[0m\n\u001b[0m\u001b[0;32m    146\u001b[0m                 \u001b[0mstates\u001b[0m \u001b[1;33m=\u001b[0m \u001b[0mrecover_kernel\u001b[0m\u001b[1;33m(\u001b[0m\u001b[0mstates\u001b[0m\u001b[1;33m,\u001b[0m \u001b[0mSIR\u001b[0m\u001b[1;33m)\u001b[0m\u001b[1;33m\u001b[0m\u001b[1;33m\u001b[0m\u001b[0m\n\u001b[0;32m    147\u001b[0m \u001b[1;33m\u001b[0m\u001b[0m\n",
      "\u001b[1;32mD:\\College\\Year 4\\Fall 2019\\CSCI 5352\\CSCI5352-AirTravelInfluenza\\Code\\model_simulations.py\u001b[0m in \u001b[0;36mlocal_infection_kernel\u001b[1;34m(states, p_transfer)\u001b[0m\n\u001b[0;32m     63\u001b[0m \u001b[1;32mdef\u001b[0m \u001b[0mlocal_infection_kernel\u001b[0m\u001b[1;33m(\u001b[0m\u001b[0mstates\u001b[0m\u001b[1;33m,\u001b[0m \u001b[0mp_transfer\u001b[0m\u001b[1;33m)\u001b[0m\u001b[1;33m:\u001b[0m\u001b[1;33m\u001b[0m\u001b[1;33m\u001b[0m\u001b[0m\n\u001b[0;32m     64\u001b[0m     \u001b[1;32mfor\u001b[0m \u001b[0mi\u001b[0m\u001b[1;33m,\u001b[0m \u001b[0mstate\u001b[0m \u001b[1;32min\u001b[0m \u001b[0menumerate\u001b[0m\u001b[1;33m(\u001b[0m\u001b[0mstates\u001b[0m\u001b[1;33m)\u001b[0m\u001b[1;33m:\u001b[0m\u001b[1;33m\u001b[0m\u001b[1;33m\u001b[0m\u001b[0m\n\u001b[1;32m---> 65\u001b[1;33m         \u001b[0mstates\u001b[0m\u001b[1;33m[\u001b[0m\u001b[0mi\u001b[0m\u001b[1;33m]\u001b[0m\u001b[1;33m.\u001b[0m\u001b[0mnum_infected\u001b[0m \u001b[1;33m=\u001b[0m \u001b[0mnp\u001b[0m\u001b[1;33m.\u001b[0m\u001b[0mrandom\u001b[0m\u001b[1;33m.\u001b[0m\u001b[0mbinomial\u001b[0m\u001b[1;33m(\u001b[0m\u001b[0mstate\u001b[0m\u001b[1;33m.\u001b[0m\u001b[0mnum_total\u001b[0m \u001b[1;33m-\u001b[0m \u001b[0mstate\u001b[0m\u001b[1;33m.\u001b[0m\u001b[0mnum_infected\u001b[0m\u001b[1;33m,\u001b[0m \u001b[0mp_transfer\u001b[0m\u001b[1;33m)\u001b[0m\u001b[1;33m\u001b[0m\u001b[1;33m\u001b[0m\u001b[0m\n\u001b[0m\u001b[0;32m     66\u001b[0m     \u001b[1;32mreturn\u001b[0m \u001b[0mstates\u001b[0m\u001b[1;33m\u001b[0m\u001b[1;33m\u001b[0m\u001b[0m\n\u001b[0;32m     67\u001b[0m \u001b[1;33m\u001b[0m\u001b[0m\n",
      "\u001b[1;31mKeyboardInterrupt\u001b[0m: "
     ]
    }
   ],
   "source": [
    "def perturbe(x, mu=0, sigma=1e-4):\n",
    "    return x + np.random.normal(mu, sigma, size=x.shape)\n",
    "\n",
    "def isvalid(x):\n",
    "    return (x <= 1).all() and (x >= 0).all()\n",
    "\n",
    "error_tol = 1e-4\n",
    "quarter = 1\n",
    "touch_fraction = 0.5\n",
    "\n",
    "x_best = np.array([0.1, 0.1, 0.99])\n",
    "# x_best = np.random.uniform(0, 1, size=(3,))\n",
    "print(x_best)\n",
    "Y_est = run_full_simulation(x_best, A_dict, all_population, years,\n",
    "                            sim_quarter=quarter, touch_fraction=touch_fraction)\n",
    "error = get_cost(deaths_matrix[quarter], Y_est)\n",
    "error_best = error\n",
    "\n",
    "print(\"0\", error)\n",
    "\n",
    "ctr = 0\n",
    "invalid_ctr = 0\n",
    "\n",
    "while error > error_tol:\n",
    "    x_i = perturbe(x_best, mu=0, sigma=1e-2)\n",
    "#     x_i = x_best + np.random.normal(0, 1e-3, size=x_best.shape)\n",
    "    if not isvalid(x_i):\n",
    "        invalid_ctr += 1\n",
    "        if invalid_ctr % 10 == 0:\n",
    "            print(\"Invalid: \", invalid_ctr)\n",
    "        continue\n",
    "    Y_est = run_full_simulation(x_i, A_dict, all_population, years,\n",
    "                                sim_quarter=quarter, touch_fraction=touch_fraction)\n",
    "    error = get_cost(deaths_matrix[quarter], Y_est)\n",
    "    ctr += 1\n",
    "    if error < error_best:\n",
    "        x_best = copy(x_i)\n",
    "        error_best = error\n",
    "        print(ctr, error)\n",
    "    elif ctr % 10 == 0:\n",
    "        print(\"Counter: \", ctr)"
   ]
  },
  {
   "cell_type": "code",
   "execution_count": 102,
   "metadata": {},
   "outputs": [
    {
     "name": "stdout",
     "output_type": "stream",
     "text": [
      "[0.17278656 0.1854208  0.96283932]\n",
      "0.001139643396272344\n"
     ]
    }
   ],
   "source": [
    "quarter = 1\n",
    "print(x_best)\n",
    "sim_deaths = run_full_simulation(x_best, A_dict, all_population, years,\n",
    "                                 sim_quarter=quarter, touch_fraction=0.8)\n",
    "error = get_cost(deaths_matrix[quarter], sim_deaths)\n",
    "print(error)"
   ]
  },
  {
   "cell_type": "code",
   "execution_count": 103,
   "metadata": {},
   "outputs": [
    {
     "data": {
      "text/plain": [
       "662.19"
      ]
     },
     "execution_count": 103,
     "metadata": {},
     "output_type": "execute_result"
    }
   ],
   "source": [
    "fraction = np.abs(deaths_matrix[quarter] - sim_deaths_best)# / deaths_matrix[-1]\n",
    "np.mean(fraction)"
   ]
  },
  {
   "cell_type": "code",
   "execution_count": 104,
   "metadata": {},
   "outputs": [
    {
     "name": "stdout",
     "output_type": "stream",
     "text": [
      "94.23\n",
      "996.0267873405816\n"
     ]
    }
   ],
   "source": [
    "# simulated results = sim_deaths and real data = deaths_matrix\n",
    "diff = (deaths_matrix[quarter] - sim_deaths_best).flatten()\n",
    "print(np.mean(diff))\n",
    "print(np.std(diff))"
   ]
  },
  {
   "cell_type": "code",
   "execution_count": 96,
   "metadata": {},
   "outputs": [
    {
     "name": "stdout",
     "output_type": "stream",
     "text": [
      "0 1.084679877544705\n",
      "1 0.08880597384308996\n",
      "2 0.04475176647042406\n",
      "3 0.05838898553337512\n",
      "4 0.015844383063742477\n",
      "5 0.02408892455032691\n",
      "6 0.03333905651475477\n",
      "7 0.01940239762962682\n",
      "8 0.01144804698545412\n",
      "9 0.01844855378627392\n",
      "10 0.02697145045892731\n",
      "11 0.06367972493648971\n",
      "12 0.6832499681394693\n",
      "13 0.05593081970859106\n",
      "14 0.06529900558011029\n",
      "15 0.03270893520425713\n",
      "16 0.041445744163291665\n",
      "17 0.017687821288459957\n",
      "18 0.08618709521700334\n",
      "19 0.014202510745555782\n",
      "20 0.23227547693774855\n",
      "21 0.020012548382210782\n",
      "22 0.013466156455278972\n",
      "23 0.06470830661648738\n",
      "24 0.04864709930106144\n",
      "25 0.022993256304065103\n",
      "26 0.08624079604444869\n",
      "27 0.1831176490415509\n",
      "28 0.05031676844650563\n",
      "29 0.41163239503277926\n",
      "30 0.07700727203650387\n",
      "31 0.6166223435491583\n",
      "32 0.22693762761610312\n",
      "33 0.09697670933411427\n",
      "34 0.027967294144472004\n",
      "35 0.04159277870145067\n",
      "36 0.01303135882231573\n",
      "37 0.028707480337519086\n",
      "38 0.042020666380865344\n",
      "39 0.026498685158495273\n",
      "40 0.038100832171867126\n",
      "41 0.03500162741334982\n",
      "42 0.012856748610896033\n",
      "43 0.029589816099852714\n",
      "44 0.0922076522409117\n",
      "45 0.7549347643260886\n",
      "46 0.017511410684349908\n",
      "47 0.07240206976144252\n",
      "48 0.06725713164884073\n",
      "49 0.024025186402587096\n"
     ]
    }
   ],
   "source": [
    "stid = 0\n",
    "\n",
    "for stid in range(50):\n",
    "    norm_coeff = LA.norm(deaths_matrix[quarter][stid]) * sim_deaths[stid].shape[0]\n",
    "    print(stid, LA.norm(sim_deaths[stid] - deaths_matrix[quarter][stid]) / norm_coeff)\n",
    "    \n",
    "# print(sim_deaths[stid])\n",
    "# print(deaths_matrix[quarter][stid])"
   ]
  },
  {
   "cell_type": "code",
   "execution_count": 105,
   "metadata": {
    "scrolled": true
   },
   "outputs": [
    {
     "data": {
      "text/plain": [
       "[<matplotlib.lines.Line2D at 0x1f7f3f62160>]"
      ]
     },
     "execution_count": 105,
     "metadata": {},
     "output_type": "execute_result"
    },
    {
     "data": {
      "image/png": "[encoded data removed]",
      "text/plain": [
       "<Figure size 432x288 with 1 Axes>"
      ]
     },
     "metadata": {
      "needs_background": "light"
     },
     "output_type": "display_data"
    }
   ],
   "source": [
    "plt.plot(sim_deaths.sum(axis=0))\n",
    "plt.plot(deaths_matrix[1].sum(axis=0))"
   ]
  },
  {
   "cell_type": "code",
   "execution_count": 106,
   "metadata": {},
   "outputs": [
    {
     "data": {
      "text/plain": [
       "array([53893, 53965, 54299, 54863, 55137, 55622, 56104, 56025, 56633,\n",
       "       56919])"
      ]
     },
     "execution_count": 106,
     "metadata": {},
     "output_type": "execute_result"
    }
   ],
   "source": [
    "sim_deaths.sum(axis=0)"
   ]
  },
  {
   "cell_type": "code",
   "execution_count": 107,
   "metadata": {},
   "outputs": [
    {
     "data": {
      "text/plain": [
       "array([55328., 62320., 54454., 68337., 59616., 65912., 55858., 61637.,\n",
       "       71918., 45195.])"
      ]
     },
     "execution_count": 107,
     "metadata": {},
     "output_type": "execute_result"
    },
    {
     "data": {
      "image/png": "[encoded data removed]",
      "text/plain": [
       "<Figure size 720x576 with 1 Axes>"
      ]
     },
     "metadata": {
      "needs_background": "light"
     },
     "output_type": "display_data"
    }
   ],
   "source": [
    "deaths_matrix[1].sum(axis=0)"
   ]
  },
  {
   "cell_type": "code",
   "execution_count": 65,
   "metadata": {},
   "outputs": [
    {
     "data": {
      "text/plain": [
       "{4: array([[0.000e+00, 0.000e+00, 9.670e+03, ..., 0.000e+00, 5.000e+01,\n",
       "         0.000e+00],\n",
       "        [1.000e+01, 0.000e+00, 1.225e+04, ..., 0.000e+00, 3.000e+01,\n",
       "         0.000e+00],\n",
       "        [9.590e+03, 1.175e+04, 0.000e+00, ..., 0.000e+00, 4.018e+04,\n",
       "         4.000e+01],\n",
       "        ...,\n",
       "        [1.000e+01, 0.000e+00, 0.000e+00, ..., 0.000e+00, 1.000e+01,\n",
       "         0.000e+00],\n",
       "        [1.000e+01, 0.000e+00, 3.756e+04, ..., 0.000e+00, 0.000e+00,\n",
       "         0.000e+00],\n",
       "        [0.000e+00, 0.000e+00, 5.000e+01, ..., 0.000e+00, 0.000e+00,\n",
       "         0.000e+00]])}"
      ]
     },
     "execution_count": 65,
     "metadata": {},
     "output_type": "execute_result"
    },
    {
     "data": {
      "image/png": "[encoded data removed]",
      "text/plain": [
       "<Figure size 720x576 with 1 Axes>"
      ]
     },
     "metadata": {
      "needs_background": "light"
     },
     "output_type": "display_data"
    }
   ],
   "source": [
    "A_dict[2009][4]"
   ]
  },
  {
   "cell_type": "markdown",
   "metadata": {},
   "source": [
    "need beautiful plots!"
   ]
  },
  {
   "cell_type": "markdown",
   "metadata": {},
   "source": [
    "Tasks\n",
    "\n",
    "- Get convergence plots\n",
    "- Do for each season (quarter)\n",
    "- Learn parameters from first five years and predict the rest\n",
    "- Repeat with no travel and compare results\n",
    "- Why are some states absolutely terrible?"
   ]
  },
  {
   "cell_type": "code",
   "execution_count": 81,
   "metadata": {},
   "outputs": [
    {
     "ename": "NameError",
     "evalue": "name 'num_deceased' is not defined",
     "output_type": "error",
     "traceback": [
      "\u001b[0;31m---------------------------------------------------------------------------\u001b[0m",
      "\u001b[0;31mNameError\u001b[0m                                 Traceback (most recent call last)",
      "\u001b[0;32m<ipython-input-81-f2ad9836a074>\u001b[0m in \u001b[0;36m<module>\u001b[0;34m\u001b[0m\n\u001b[0;32m----> 1\u001b[0;31m \u001b[0mdeceased_df\u001b[0m \u001b[0;34m=\u001b[0m \u001b[0mpd\u001b[0m\u001b[0;34m.\u001b[0m\u001b[0mDataFrame\u001b[0m\u001b[0;34m.\u001b[0m\u001b[0mfrom_records\u001b[0m\u001b[0;34m(\u001b[0m\u001b[0;34m[\u001b[0m\u001b[0;34m[\u001b[0m\u001b[0mi\u001b[0m\u001b[0;34m,\u001b[0m \u001b[0mj\u001b[0m\u001b[0;34m]\u001b[0m \u001b[0;34m+\u001b[0m \u001b[0mnum_deceased\u001b[0m\u001b[0;34m[\u001b[0m\u001b[0mi\u001b[0m\u001b[0;34m]\u001b[0m\u001b[0;34m[\u001b[0m\u001b[0mj\u001b[0m\u001b[0;34m]\u001b[0m \u001b[0;32mfor\u001b[0m \u001b[0mi\u001b[0m \u001b[0;32min\u001b[0m \u001b[0mnum_deceased\u001b[0m \u001b[0;32mfor\u001b[0m \u001b[0mj\u001b[0m \u001b[0;32min\u001b[0m \u001b[0mnum_deceased\u001b[0m\u001b[0;34m[\u001b[0m\u001b[0mi\u001b[0m\u001b[0;34m]\u001b[0m\u001b[0;34m]\u001b[0m\u001b[0;34m)\u001b[0m\u001b[0;34m\u001b[0m\u001b[0;34m\u001b[0m\u001b[0m\n\u001b[0m\u001b[1;32m      2\u001b[0m \u001b[0mdeceased_df\u001b[0m\u001b[0;34m.\u001b[0m\u001b[0mto_csv\u001b[0m\u001b[0;34m(\u001b[0m\u001b[0;34m'deceased_df_real_data_3.csv'\u001b[0m\u001b[0;34m)\u001b[0m\u001b[0;34m\u001b[0m\u001b[0;34m\u001b[0m\u001b[0m\n",
      "\u001b[0;31mNameError\u001b[0m: name 'num_deceased' is not defined"
     ]
    }
   ],
   "source": [
    "deceased_df = pd.DataFrame.from_records([[i, j] + num_deceased[i][j] for i in num_deceased for j in num_deceased[i]])\n",
    "deceased_df.to_csv('deceased_df_real_data_3.csv')"
   ]
  },
  {
   "cell_type": "markdown",
   "metadata": {},
   "source": [
    "### Real Data No Travel"
   ]
  },
  {
   "cell_type": "code",
   "execution_count": null,
   "metadata": {},
   "outputs": [],
   "source": [
    "sim_time = time()\n",
    "\n",
    "states = []\n",
    "year_0 = 2009\n",
    "for state_id in range(50):\n",
    "    state = State(all_population[year_0][state_id])\n",
    "    state.num_infected += np.random.binomial(state.num_total, p_inf)\n",
    "    states.append(state)\n",
    "    \n",
    "# Propagate infection\n",
    "num_deceased_no_travel = {}\n",
    "\n",
    "# For each year:\n",
    "for year in years:\n",
    "    iter_time = time()\n",
    "    num_deceased_no_travel[year] = {}\n",
    "    # For each quarter:\n",
    "    for quarter in range(1, 5):\n",
    "        if year == 2009 and quarter != 4:\n",
    "            continue\n",
    "        if year == 2019 and quarter != 1:\n",
    "            continue\n",
    "        # 1. travel and infect\n",
    "        # 2. Recover\n",
    "        # 3. Remove deceased and store it\n",
    "        # 4. Randomly infect\n",
    "#         states = travel_and_infect_kernel(A_dict[year][quarter], states, p_transfer)\n",
    "        states = recover_kernel(states, SIR)\n",
    "        states, dead_peeps = remove_deceased_kernel(states)\n",
    "        num_deceased_no_travel[year][quarter] = dead_peeps\n",
    "        states = random_infection_kernel(states, p_inf)\n",
    "    \n",
    "    # Inject population\n",
    "    try:\n",
    "        pop_vec = inject_population_kernel(states, all_population[year+1])\n",
    "    except KeyError:\n",
    "        # We are at the end of our data\n",
    "        pass\n",
    "    \n",
    "    iter_time = time() - iter_time\n",
    "    print(\"Elapsed time for {}: {:.3f} s\".format(year, iter_time))\n",
    "\n",
    "sim_time = time() - sim_time\n",
    "print(\"Total elapsed time for simulation: {:.3f} s\".format(sim_time))"
   ]
  },
  {
   "cell_type": "code",
   "execution_count": null,
   "metadata": {},
   "outputs": [],
   "source": [
    "deceased_no_travel_df = pd.DataFrame.from_records([[i, j] + num_deceased_no_travel[i][j] for i in num_deceased_no_travel for j in num_deceased_no_travel[i]])\n",
    "deceased_no_travel_df.to_csv('deceased_df_no_travel_real_data_3.csv')\n"
   ]
  },
  {
   "cell_type": "code",
   "execution_count": null,
   "metadata": {},
   "outputs": [],
   "source": []
  }
 ],
 "metadata": {
  "kernelspec": {
   "display_name": "Python 3",
   "language": "python",
   "name": "python3"
  },
  "language_info": {
   "codemirror_mode": {
    "name": "ipython",
    "version": 3
   },
   "file_extension": ".py",
   "mimetype": "text/x-python",
   "name": "python",
   "nbconvert_exporter": "python",
   "pygments_lexer": "ipython3",
   "version": "3.7.3"
  }
 },
 "nbformat": 4,
 "nbformat_minor": 2
}

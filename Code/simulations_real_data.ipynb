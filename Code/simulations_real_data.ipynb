{
 "cells": [
  {
   "cell_type": "code",
   "execution_count": 1,
   "metadata": {},
   "outputs": [
    {
     "name": "stdout",
     "output_type": "stream",
     "text": [
      "0.42.0\n"
     ]
    }
   ],
   "source": [
    "import numpy as np\n",
    "import pandas as pd\n",
    "import matplotlib.pyplot as plt\n",
    "import networkx as nx\n",
    "\n",
    "from pprint import pprint\n",
    "from copy import deepcopy as copy\n",
    "import numba as nb\n",
    "jit = nb.jit\n",
    "\n",
    "print(nb.__version__)\n",
    "%matplotlib inline"
   ]
  },
  {
   "cell_type": "code",
   "execution_count": 2,
   "metadata": {},
   "outputs": [],
   "source": [
    "def read_US_states(fname):\n",
    "    states_abb_dict = {}\n",
    "    states_abb_rev_dict = {}\n",
    "    states_abb_ord_list = []\n",
    "    with open(fname, \"r\") as f:\n",
    "        for line in f:\n",
    "            line = line.strip().split(\",\")\n",
    "            name = line[0]\n",
    "            abbr = line[1]\n",
    "            states_abb_dict[name] = (abbr, len(states_abb_ord_list))\n",
    "            states_abb_rev_dict[abbr] = name\n",
    "            states_abb_ord_list.append(abbr)\n",
    "    \n",
    "    return states_abb_dict, states_abb_rev_dict, states_abb_ord_list\n",
    "\n",
    "def read_travel_network(fname, states_abb_dict, states_abb_rev_dict, normalization=1000):\n",
    "    num_states = 50\n",
    "\n",
    "    adjacency_list = {}\n",
    "    A = np.zeros((num_states, num_states))\n",
    "\n",
    "    for abb in states_abb_rev_dict:\n",
    "        adjacency_list[abb] = []\n",
    "\n",
    "    with open(fname, \"r\") as f:\n",
    "        for idx, line in enumerate(f):\n",
    "            if idx == 0:\n",
    "                continue\n",
    "            line = line.strip().split(\",\")\n",
    "            orig = line[0]\n",
    "            dest = line[1]\n",
    "            weight = float(line[2])*10 / normalization\n",
    "            if orig == dest:\n",
    "                continue\n",
    "            try:\n",
    "                orig_abb, orig_idx = states_abb_dict[orig]\n",
    "                dest_abb, dest_idx = states_abb_dict[dest]\n",
    "                adjacency_list[orig_abb].append((dest_abb, weight))\n",
    "                A[orig_idx][dest_idx] = weight\n",
    "            except KeyError:\n",
    "                pass\n",
    "    \n",
    "    return adjacency_list, A\n",
    "\n",
    "def read_deaths_data(fname):\n",
    "    df = pd.read_csv(fname)\n",
    "    sum_df_d = df.groupby(['State', 'Year', 'Quarter'])[['DeathsFromPneumoniaAndInfluenza']].sum().T.to_dict()\n",
    "    deaths_dict = {}\n",
    "    for key, deaths in sum_df_d.items():\n",
    "        state, year, quarter = key\n",
    "        if state not in deaths_dict:\n",
    "            deaths_dict[state] = {}\n",
    "        if year not in deaths_dict[state]:\n",
    "            deaths_dict[state][year] = {}\n",
    "        deaths_dict[state][year][quarter] = deaths[\"DeathsFromPneumoniaAndInfluenza\"]\n",
    "    return deaths_dict\n",
    "\n",
    "def read_population_dict(fname):\n",
    "    population_dict = {}\n",
    "    with open(fname, \"r\") as f:\n",
    "        for idx, line in enumerate(f):\n",
    "            if idx == 0:\n",
    "                continue\n",
    "            line = line.strip().split(\",\")\n",
    "            state = line[1]\n",
    "            population_dict[state] = {}\n",
    "            year = 2009\n",
    "            for idx, pop in enumerate(line[2:]):\n",
    "                population_dict[state][year + idx] = int(pop)\n",
    "    return population_dict"
   ]
  },
  {
   "cell_type": "code",
   "execution_count": 3,
   "metadata": {},
   "outputs": [],
   "source": [
    "data_dir = \"../Data/Clean/\"\n",
    "deaths_fname = \"deaths_NCHS_processed.csv\"\n",
    "population_fname = \"population.csv\"\n",
    "\n",
    "states_abb_dict, states_abb_rev_dict, stats_abb_ord_list = read_US_states(data_dir + \"states_abb.csv\")\n",
    "deaths_dict = read_deaths_data(data_dir + deaths_fname)\n",
    "population_dict = read_population_dict(data_dir + population_fname)\n",
    "\n",
    "adj_list = {}\n",
    "A = {}\n",
    "A[2009] = {}\n",
    "A[2009][4] = read_travel_network(data_dir + \"2009_Q4.csv\", states_abb_dict, states_abb_rev_dict)[-1]\n",
    "for year in range(2010, 2019):\n",
    "    A[year] = {}\n",
    "    for quarter in range(1, 5):\n",
    "        network_fname = str(year) + \"_Q\" + str(quarter) + \".csv\"\n",
    "        A[year][quarter] = read_travel_network(data_dir + network_fname, states_abb_dict, states_abb_rev_dict)[-1]\n",
    "A[2019] = {}\n",
    "A[2019][1] = read_travel_network(data_dir + \"2019_Q1.csv\", states_abb_dict, states_abb_rev_dict)[-1]"
   ]
  },
  {
   "cell_type": "code",
   "execution_count": 4,
   "metadata": {},
   "outputs": [],
   "source": [
    "@jit(nopython=True, nogil=True)\n",
    "def travel_and_infect_kernel(A, pop_vector, pop_vector_new, p_transfer, approx_binomial=None, verbose=False):\n",
    "    N = A.shape[0]\n",
    "    for orig in range(N):\n",
    "        infected_fraction = np.mean(pop_vector[orig])\n",
    "        if orig % 10 == 0:\n",
    "                print(orig, infected_fraction)\n",
    "        for dest in range(N):\n",
    "            if orig == dest:\n",
    "                continue\n",
    "            \n",
    "            # Travel the people\n",
    "            travel_pop_all = A[orig, dest]\n",
    "            travel_pop_inf = int(travel_pop_all * infected_fraction)\n",
    "\n",
    "            # Infect people at destination\n",
    "            for person_id, person in enumerate(pop_vector[dest]):\n",
    "                #if np.random.binomial(travel_pop_inf, p_transfer) > 0:\n",
    "                if approx_binomial[travel_pop_inf][np.random.randint(30)] >= 1:\n",
    "                    pop_vector_new[dest][person_id] = 1\n",
    "        \n",
    "    return pop_vector_new\n",
    "\n",
    "# https://stackoverflow.com/questions/3679694\n",
    "# Numba can't handle probabilities in np.random.choice\n",
    "@jit(nopython=True, nogil=True)\n",
    "def custom_random_choice(values, probabilities):\n",
    "    # This assumes probs sum to 1\n",
    "    r = np.random.rand()\n",
    "    acc = 0\n",
    "    for v, p in zip(values, probabilities):\n",
    "        acc += p\n",
    "        if acc > r:\n",
    "            return v\n",
    "    # Should never get here\n",
    "    return 0\n",
    "\n",
    "@jit(nopython=True, nogil=True)\n",
    "def recover_kernel(pop_vector, SIR_params):\n",
    "    for state_id, state in enumerate(pop_vector):\n",
    "        for person_id, person in enumerate(state):\n",
    "            if person == 0:\n",
    "                continue\n",
    "            pop_vector[state_id][person_id] = custom_random_choice([0, 1, 2], SIR_params)\n",
    "    return pop_vector\n",
    "\n",
    "# @jit(nopython=True, nogil=True)\n",
    "def remove_deceased_kernel(pop_vector):\n",
    "    num_deceased = []\n",
    "    for state_id, state in enumerate(pop_vector):\n",
    "        num_inf = len(np.where(state==1)[0])\n",
    "        num_dead = len(np.where(state==2)[0])\n",
    "        num_tot = len(state)\n",
    "        new_pop = num_tot - num_dead\n",
    "        if new_pop > 0:\n",
    "            pop_vector[state_id] = np.ones(num_inf, dtype=np.float64).tolist() + np.zeros(new_pop-num_inf, dtype=np.float64).tolist()\n",
    "        else:\n",
    "            pop_vector[state_id] = np.empty(dtype=np.float64)\n",
    "        num_deceased.append(num_dead)\n",
    "    return pop_vector, num_deceased\n",
    "\n",
    "# @jit(nopython=True, nogil=True)\n",
    "def inject_population_kernel(pop_vector, new_population):\n",
    "    # new_population is somehow ordered\n",
    "    for state_id, state in enumerate(pop_vector):\n",
    "        current_pop = len(state)\n",
    "        nextgen_pop = new_population[state_id]\n",
    "        extra_peeps = nextgen_pop - current_pop\n",
    "        if extra_peeps > 0:\n",
    "            pop_vector[state_id] = np.concatenate((state, np.zeros(extra_peeps)))\n",
    "        elif extra_peeps < 0:\n",
    "            # population actually decreased... remove infected and susceptible at same rate\n",
    "            extra_peeps = -extra_peeps\n",
    "            num_inf = len(np.where(state==1)[0])\n",
    "            num_safe = current_pop - num_inf\n",
    "            num_inf_to_remove = extra_peeps // 2\n",
    "            num_safe_to_remove = extra_peeps - num_inf_to_remove\n",
    "            new_state = [1]*(num_inf - num_inf_to_remove) + [0]*(num_safe - num_safe_to_remove)\n",
    "            pop_vector[state_id] = np.array(new_state)\n",
    "    return pop_vector\n",
    "\n",
    "def random_infection_kernel(pop_vector, p_inf):\n",
    "    for state_id, state in enumerate(pop_vector):\n",
    "        pop_vector[state_id] = np.random.binomial(1, p_inf, len(state))\n",
    "    return pop_vector"
   ]
  },
  {
   "cell_type": "markdown",
   "metadata": {},
   "source": [
    "Find p_die"
   ]
  },
  {
   "cell_type": "code",
   "execution_count": 5,
   "metadata": {},
   "outputs": [],
   "source": [
    "pop_data = pd.read_csv(data_dir+population_fname)\n",
    "pop_data.drop(['State', 'Abbr'], inplace=True, axis=1)\n",
    "avg_pop = np.mean(pop_data.sum(axis=0) )\n",
    "\n",
    "death_data = pd.read_csv(data_dir+deaths_fname).drop(['Week', 'Quarter'], axis=1)\n",
    "death_data = death_data[~(death_data.Year <= 2009)]\n",
    "death_data = death_data[~(death_data.Year >= 2019)]\n",
    "deaths_avg = np.mean(death_data.groupby(['Year']).sum())"
   ]
  },
  {
   "cell_type": "code",
   "execution_count": 6,
   "metadata": {},
   "outputs": [],
   "source": [
    "N = 50\n",
    "p_inf = 0.05\n",
    "p_transfer = 0.1\n",
    "p_die = np.float64(deaths_avg*(0.125)/avg_pop) #0.01 # https://www.webmd.com/cold-and-flu/flu-statistics --> 5-20% of people get the flu each year\n",
    "p_rec = 1-p_die\n",
    "p_stay = 0\n",
    "SIR = np.array([p_rec, p_stay, p_die], dtype=np.float64)"
   ]
  },
  {
   "cell_type": "code",
   "execution_count": 7,
   "metadata": {},
   "outputs": [
    {
     "data": {
      "text/plain": [
       "7.540044190323758e-05"
      ]
     },
     "execution_count": 7,
     "metadata": {},
     "output_type": "execute_result"
    }
   ],
   "source": [
    "p_die"
   ]
  },
  {
   "cell_type": "code",
   "execution_count": 8,
   "metadata": {},
   "outputs": [],
   "source": [
    "all_pop = {}\n",
    "years = [2009,2010,2011,2012,2013,2014,2015,2016,2017,2018]\n",
    "for year in years:\n",
    "    all_pop[year] = []\n",
    "\n",
    "\n",
    "for state,data in population_dict.items():\n",
    "    for year, pop in data.items():\n",
    "        all_pop[year].append(pop)"
   ]
  },
  {
   "cell_type": "code",
   "execution_count": 9,
   "metadata": {},
   "outputs": [],
   "source": [
    "# tmp = all_population\n",
    "all_population = all_pop\n",
    "# A_dict_temp = A_dict\n",
    "A_dict = A"
   ]
  },
  {
   "cell_type": "code",
   "execution_count": 10,
   "metadata": {},
   "outputs": [],
   "source": [
    "# Instantiate a random infection\n",
    "pop_vec = []\n",
    "year_0 = 2009\n",
    "for state_id in range(N):\n",
    "    pop_vec.append(np.random.binomial(1, p_inf, all_population[year_0][state_id]))"
   ]
  },
  {
   "cell_type": "code",
   "execution_count": null,
   "metadata": {
    "scrolled": true
   },
   "outputs": [
    {
     "name": "stdout",
     "output_type": "stream",
     "text": [
      "2009 4\n",
      "0 0.05002776412807397\n",
      "10 0.049789228174887526\n",
      "20 0.04998379007774779\n",
      "30 0.05028078330637931\n"
     ]
    }
   ],
   "source": [
    "from time import time\n",
    "\n",
    "# Propagate infection\n",
    "num_deceased = {}\n",
    "\n",
    "# For each year:\n",
    "for year in years:\n",
    "    t = time()\n",
    "    num_deceased[year] = {}\n",
    "    # For each quarter:\n",
    "    for quarter in range(1,5):\n",
    "        # 1. travel and infect\n",
    "        # 2. Recover\n",
    "        # 3. Remove deceased and store it\n",
    "        # 4. Randomly infect\n",
    "        \n",
    "        if year == 2009 and quarter != 4:\n",
    "            continue\n",
    "        elif year == 2019 and quarter != 1:\n",
    "            continue\n",
    "            \n",
    "        print(year, quarter)\n",
    "#         print(pop_vec)\n",
    "        \n",
    "        pop_vec = [x.astype(int) for x in pop_vec]\n",
    "        \n",
    "        max_inf = int(np.max(A_dict[year][quarter]))\n",
    "        approx_binomial = []\n",
    "        for i in range(max_inf):\n",
    "            approx_binomial.append(np.random.binomial(i, p_transfer, 30))\n",
    "\n",
    "        \n",
    "        pop_vec_new = copy(pop_vec)\n",
    "        \n",
    "        pop_vec = travel_and_infect_kernel(A_dict[year][quarter], pop_vec, pop_vec_new, p_transfer, approx_binomial=approx_binomial)\n",
    "        print(\"travel_and_infect_kernel\")\n",
    "        \n",
    "        pop_vec = recover_kernel(pop_vec, SIR)\n",
    "        print(\"recover_kernel\")\n",
    "\n",
    "        pop_vec, dead_peeps = remove_deceased_kernel(pop_vec)\n",
    "        print(\"remove_deceased_kernel\")\n",
    "\n",
    "        num_deceased[year][quarter] = dead_peeps\n",
    "        pop_vec = random_infection_kernel(pop_vec, p_inf)\n",
    "#         print(pop_vec)\n",
    "    \n",
    "    # Inject population\n",
    "    try:\n",
    "        pop_vec = inject_population_kernel(pop_vec, all_population[year+1])\n",
    "    except KeyError:\n",
    "        # We are at the end of our data\n",
    "        pass\n",
    "    \n",
    "    t = time() - t\n",
    "    print(\"Elapsed time for {}: {:.3f}\".format(year, t))"
   ]
  },
  {
   "cell_type": "code",
   "execution_count": null,
   "metadata": {},
   "outputs": [],
   "source": [
    "pprint(num_deceased)"
   ]
  },
  {
   "cell_type": "code",
   "execution_count": null,
   "metadata": {},
   "outputs": [],
   "source": [
    "pprint(all_population)"
   ]
  },
  {
   "cell_type": "code",
   "execution_count": 12,
   "metadata": {},
   "outputs": [],
   "source": [
    "deceased_df = pd.DataFrame.from_records([[i, j] + num_deceased[i][j] for i in num_deceased for j in num_deceased[i]])"
   ]
  },
  {
   "cell_type": "code",
   "execution_count": 13,
   "metadata": {},
   "outputs": [],
   "source": [
    "deceased_df.to_csv('deceased_df_real_data_2.csv')"
   ]
  },
  {
   "cell_type": "code",
   "execution_count": null,
   "metadata": {},
   "outputs": [],
   "source": [
    "A_dict[2009][4][9][8] * np.mean(pop_vec[9])"
   ]
  },
  {
   "cell_type": "code",
   "execution_count": null,
   "metadata": {},
   "outputs": [],
   "source": [
    "for i in range(len(pop_vec)):\n",
    "    print(np.mean(pop_vec[i]))"
   ]
  },
  {
   "cell_type": "code",
   "execution_count": null,
   "metadata": {},
   "outputs": [],
   "source": []
  }
 ],
 "metadata": {
  "kernelspec": {
   "display_name": "Python 3",
   "language": "python",
   "name": "python3"
  },
  "language_info": {
   "codemirror_mode": {
    "name": "ipython",
    "version": 3
   },
   "file_extension": ".py",
   "mimetype": "text/x-python",
   "name": "python",
   "nbconvert_exporter": "python",
   "pygments_lexer": "ipython3",
   "version": "3.6.8"
  }
 },
 "nbformat": 4,
 "nbformat_minor": 2
}
